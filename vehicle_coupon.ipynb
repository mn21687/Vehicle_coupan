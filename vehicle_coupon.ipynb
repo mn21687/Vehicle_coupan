{
 "cells": [
  {
   "cell_type": "markdown",
   "id": "italic-paraguay",
   "metadata": {
    "papermill": {
     "duration": 0.027514,
     "end_time": "2021-05-24T12:23:26.536585",
     "exception": false,
     "start_time": "2021-05-24T12:23:26.509071",
     "status": "completed"
    },
    "tags": []
   },
   "source": [
    "# Load libs"
   ]
  },
  {
   "cell_type": "code",
   "execution_count": 1,
   "id": "green-sixth",
   "metadata": {
    "execution": {
     "iopub.execute_input": "2021-05-24T12:23:26.595905Z",
     "iopub.status.busy": "2021-05-24T12:23:26.595318Z",
     "iopub.status.idle": "2021-05-24T12:23:27.747481Z",
     "shell.execute_reply": "2021-05-24T12:23:27.746721Z",
     "shell.execute_reply.started": "2021-05-24T12:22:55.966294Z"
    },
    "papermill": {
     "duration": 1.1846,
     "end_time": "2021-05-24T12:23:27.747630",
     "exception": false,
     "start_time": "2021-05-24T12:23:26.563030",
     "status": "completed"
    },
    "tags": []
   },
   "outputs": [],
   "source": [
    "from sklearn.ensemble import GradientBoostingClassifier, RandomForestClassifier\n",
    "from sklearn.metrics import accuracy_score, confusion_matrix, ConfusionMatrixDisplay\n",
    "from sklearn.metrics import classification_report, accuracy_score, confusion_matrix\n",
    "from sklearn.model_selection import KFold\n",
    "from sklearn.model_selection import StratifiedKFold\n",
    "from sklearn.preprocessing import OneHotEncoder\n",
    "from sklearn.svm import SVC\n",
    "import warnings\n",
    "warnings.filterwarnings('ignore')\n",
    "import matplotlib.pyplot as plt\n",
    "import numpy as np\n",
    "import pandas as pd"
   ]
  },
  {
   "cell_type": "markdown",
   "id": "residential-multiple",
   "metadata": {
    "_cell_guid": "29388e06-b307-4d89-bcc7-d96f31d0da5e",
    "_uuid": "f464ff71-35a8-4777-8edb-c5b35f9c5adc",
    "papermill": {
     "duration": 0.026288,
     "end_time": "2021-05-24T12:23:27.799606",
     "exception": false,
     "start_time": "2021-05-24T12:23:27.773318",
     "status": "completed"
    },
    "tags": []
   },
   "source": [
    "# Load and describe"
   ]
  },
  {
   "cell_type": "code",
   "execution_count": 2,
   "id": "corresponding-instrumentation",
   "metadata": {
    "_cell_guid": "ff984478-7c5e-49ca-acaa-e6986f7bff81",
    "_uuid": "4f097cf5-b850-4970-ac3b-da017b11d74d",
    "execution": {
     "iopub.execute_input": "2021-05-24T12:23:27.856733Z",
     "iopub.status.busy": "2021-05-24T12:23:27.856175Z",
     "iopub.status.idle": "2021-05-24T12:23:27.986272Z",
     "shell.execute_reply": "2021-05-24T12:23:27.986737Z",
     "shell.execute_reply.started": "2021-05-24T12:22:55.974130Z"
    },
    "jupyter": {
     "outputs_hidden": false
    },
    "papermill": {
     "duration": 0.16073,
     "end_time": "2021-05-24T12:23:27.986937",
     "exception": false,
     "start_time": "2021-05-24T12:23:27.826207",
     "status": "completed"
    },
    "tags": []
   },
   "outputs": [
    {
     "data": {
      "text/html": [
       "<div>\n",
       "<style scoped>\n",
       "    .dataframe tbody tr th:only-of-type {\n",
       "        vertical-align: middle;\n",
       "    }\n",
       "\n",
       "    .dataframe tbody tr th {\n",
       "        vertical-align: top;\n",
       "    }\n",
       "\n",
       "    .dataframe thead th {\n",
       "        text-align: right;\n",
       "    }\n",
       "</style>\n",
       "<table border=\"1\" class=\"dataframe\">\n",
       "  <thead>\n",
       "    <tr style=\"text-align: right;\">\n",
       "      <th></th>\n",
       "      <th>destination</th>\n",
       "      <th>passanger</th>\n",
       "      <th>weather</th>\n",
       "      <th>temperature</th>\n",
       "      <th>time</th>\n",
       "      <th>coupon</th>\n",
       "      <th>expiration</th>\n",
       "      <th>gender</th>\n",
       "      <th>age</th>\n",
       "      <th>maritalStatus</th>\n",
       "      <th>...</th>\n",
       "      <th>CoffeeHouse</th>\n",
       "      <th>CarryAway</th>\n",
       "      <th>RestaurantLessThan20</th>\n",
       "      <th>Restaurant20To50</th>\n",
       "      <th>toCoupon_GEQ5min</th>\n",
       "      <th>toCoupon_GEQ15min</th>\n",
       "      <th>toCoupon_GEQ25min</th>\n",
       "      <th>direction_same</th>\n",
       "      <th>direction_opp</th>\n",
       "      <th>Y</th>\n",
       "    </tr>\n",
       "  </thead>\n",
       "  <tbody>\n",
       "    <tr>\n",
       "      <th>0</th>\n",
       "      <td>No Urgent Place</td>\n",
       "      <td>Alone</td>\n",
       "      <td>Sunny</td>\n",
       "      <td>55</td>\n",
       "      <td>2PM</td>\n",
       "      <td>Restaurant(&lt;20)</td>\n",
       "      <td>1d</td>\n",
       "      <td>Female</td>\n",
       "      <td>21</td>\n",
       "      <td>Unmarried partner</td>\n",
       "      <td>...</td>\n",
       "      <td>never</td>\n",
       "      <td>NaN</td>\n",
       "      <td>4~8</td>\n",
       "      <td>1~3</td>\n",
       "      <td>1</td>\n",
       "      <td>0</td>\n",
       "      <td>0</td>\n",
       "      <td>0</td>\n",
       "      <td>1</td>\n",
       "      <td>1</td>\n",
       "    </tr>\n",
       "    <tr>\n",
       "      <th>1</th>\n",
       "      <td>No Urgent Place</td>\n",
       "      <td>Friend(s)</td>\n",
       "      <td>Sunny</td>\n",
       "      <td>80</td>\n",
       "      <td>10AM</td>\n",
       "      <td>Coffee House</td>\n",
       "      <td>2h</td>\n",
       "      <td>Female</td>\n",
       "      <td>21</td>\n",
       "      <td>Unmarried partner</td>\n",
       "      <td>...</td>\n",
       "      <td>never</td>\n",
       "      <td>NaN</td>\n",
       "      <td>4~8</td>\n",
       "      <td>1~3</td>\n",
       "      <td>1</td>\n",
       "      <td>0</td>\n",
       "      <td>0</td>\n",
       "      <td>0</td>\n",
       "      <td>1</td>\n",
       "      <td>0</td>\n",
       "    </tr>\n",
       "    <tr>\n",
       "      <th>2</th>\n",
       "      <td>No Urgent Place</td>\n",
       "      <td>Friend(s)</td>\n",
       "      <td>Sunny</td>\n",
       "      <td>80</td>\n",
       "      <td>10AM</td>\n",
       "      <td>Carry out &amp; Take away</td>\n",
       "      <td>2h</td>\n",
       "      <td>Female</td>\n",
       "      <td>21</td>\n",
       "      <td>Unmarried partner</td>\n",
       "      <td>...</td>\n",
       "      <td>never</td>\n",
       "      <td>NaN</td>\n",
       "      <td>4~8</td>\n",
       "      <td>1~3</td>\n",
       "      <td>1</td>\n",
       "      <td>1</td>\n",
       "      <td>0</td>\n",
       "      <td>0</td>\n",
       "      <td>1</td>\n",
       "      <td>1</td>\n",
       "    </tr>\n",
       "    <tr>\n",
       "      <th>3</th>\n",
       "      <td>No Urgent Place</td>\n",
       "      <td>Friend(s)</td>\n",
       "      <td>Sunny</td>\n",
       "      <td>80</td>\n",
       "      <td>2PM</td>\n",
       "      <td>Coffee House</td>\n",
       "      <td>2h</td>\n",
       "      <td>Female</td>\n",
       "      <td>21</td>\n",
       "      <td>Unmarried partner</td>\n",
       "      <td>...</td>\n",
       "      <td>never</td>\n",
       "      <td>NaN</td>\n",
       "      <td>4~8</td>\n",
       "      <td>1~3</td>\n",
       "      <td>1</td>\n",
       "      <td>1</td>\n",
       "      <td>0</td>\n",
       "      <td>0</td>\n",
       "      <td>1</td>\n",
       "      <td>0</td>\n",
       "    </tr>\n",
       "    <tr>\n",
       "      <th>4</th>\n",
       "      <td>No Urgent Place</td>\n",
       "      <td>Friend(s)</td>\n",
       "      <td>Sunny</td>\n",
       "      <td>80</td>\n",
       "      <td>2PM</td>\n",
       "      <td>Coffee House</td>\n",
       "      <td>1d</td>\n",
       "      <td>Female</td>\n",
       "      <td>21</td>\n",
       "      <td>Unmarried partner</td>\n",
       "      <td>...</td>\n",
       "      <td>never</td>\n",
       "      <td>NaN</td>\n",
       "      <td>4~8</td>\n",
       "      <td>1~3</td>\n",
       "      <td>1</td>\n",
       "      <td>1</td>\n",
       "      <td>0</td>\n",
       "      <td>0</td>\n",
       "      <td>1</td>\n",
       "      <td>0</td>\n",
       "    </tr>\n",
       "    <tr>\n",
       "      <th>...</th>\n",
       "      <td>...</td>\n",
       "      <td>...</td>\n",
       "      <td>...</td>\n",
       "      <td>...</td>\n",
       "      <td>...</td>\n",
       "      <td>...</td>\n",
       "      <td>...</td>\n",
       "      <td>...</td>\n",
       "      <td>...</td>\n",
       "      <td>...</td>\n",
       "      <td>...</td>\n",
       "      <td>...</td>\n",
       "      <td>...</td>\n",
       "      <td>...</td>\n",
       "      <td>...</td>\n",
       "      <td>...</td>\n",
       "      <td>...</td>\n",
       "      <td>...</td>\n",
       "      <td>...</td>\n",
       "      <td>...</td>\n",
       "      <td>...</td>\n",
       "    </tr>\n",
       "    <tr>\n",
       "      <th>12679</th>\n",
       "      <td>Home</td>\n",
       "      <td>Partner</td>\n",
       "      <td>Rainy</td>\n",
       "      <td>55</td>\n",
       "      <td>6PM</td>\n",
       "      <td>Carry out &amp; Take away</td>\n",
       "      <td>1d</td>\n",
       "      <td>Male</td>\n",
       "      <td>26</td>\n",
       "      <td>Single</td>\n",
       "      <td>...</td>\n",
       "      <td>never</td>\n",
       "      <td>1~3</td>\n",
       "      <td>4~8</td>\n",
       "      <td>1~3</td>\n",
       "      <td>1</td>\n",
       "      <td>0</td>\n",
       "      <td>0</td>\n",
       "      <td>1</td>\n",
       "      <td>0</td>\n",
       "      <td>1</td>\n",
       "    </tr>\n",
       "    <tr>\n",
       "      <th>12680</th>\n",
       "      <td>Work</td>\n",
       "      <td>Alone</td>\n",
       "      <td>Rainy</td>\n",
       "      <td>55</td>\n",
       "      <td>7AM</td>\n",
       "      <td>Carry out &amp; Take away</td>\n",
       "      <td>1d</td>\n",
       "      <td>Male</td>\n",
       "      <td>26</td>\n",
       "      <td>Single</td>\n",
       "      <td>...</td>\n",
       "      <td>never</td>\n",
       "      <td>1~3</td>\n",
       "      <td>4~8</td>\n",
       "      <td>1~3</td>\n",
       "      <td>1</td>\n",
       "      <td>0</td>\n",
       "      <td>0</td>\n",
       "      <td>0</td>\n",
       "      <td>1</td>\n",
       "      <td>1</td>\n",
       "    </tr>\n",
       "    <tr>\n",
       "      <th>12681</th>\n",
       "      <td>Work</td>\n",
       "      <td>Alone</td>\n",
       "      <td>Snowy</td>\n",
       "      <td>30</td>\n",
       "      <td>7AM</td>\n",
       "      <td>Coffee House</td>\n",
       "      <td>1d</td>\n",
       "      <td>Male</td>\n",
       "      <td>26</td>\n",
       "      <td>Single</td>\n",
       "      <td>...</td>\n",
       "      <td>never</td>\n",
       "      <td>1~3</td>\n",
       "      <td>4~8</td>\n",
       "      <td>1~3</td>\n",
       "      <td>1</td>\n",
       "      <td>0</td>\n",
       "      <td>0</td>\n",
       "      <td>1</td>\n",
       "      <td>0</td>\n",
       "      <td>0</td>\n",
       "    </tr>\n",
       "    <tr>\n",
       "      <th>12682</th>\n",
       "      <td>Work</td>\n",
       "      <td>Alone</td>\n",
       "      <td>Snowy</td>\n",
       "      <td>30</td>\n",
       "      <td>7AM</td>\n",
       "      <td>Bar</td>\n",
       "      <td>1d</td>\n",
       "      <td>Male</td>\n",
       "      <td>26</td>\n",
       "      <td>Single</td>\n",
       "      <td>...</td>\n",
       "      <td>never</td>\n",
       "      <td>1~3</td>\n",
       "      <td>4~8</td>\n",
       "      <td>1~3</td>\n",
       "      <td>1</td>\n",
       "      <td>1</td>\n",
       "      <td>1</td>\n",
       "      <td>0</td>\n",
       "      <td>1</td>\n",
       "      <td>0</td>\n",
       "    </tr>\n",
       "    <tr>\n",
       "      <th>12683</th>\n",
       "      <td>Work</td>\n",
       "      <td>Alone</td>\n",
       "      <td>Sunny</td>\n",
       "      <td>80</td>\n",
       "      <td>7AM</td>\n",
       "      <td>Restaurant(20-50)</td>\n",
       "      <td>2h</td>\n",
       "      <td>Male</td>\n",
       "      <td>26</td>\n",
       "      <td>Single</td>\n",
       "      <td>...</td>\n",
       "      <td>never</td>\n",
       "      <td>1~3</td>\n",
       "      <td>4~8</td>\n",
       "      <td>1~3</td>\n",
       "      <td>1</td>\n",
       "      <td>0</td>\n",
       "      <td>0</td>\n",
       "      <td>1</td>\n",
       "      <td>0</td>\n",
       "      <td>0</td>\n",
       "    </tr>\n",
       "  </tbody>\n",
       "</table>\n",
       "<p>12684 rows × 26 columns</p>\n",
       "</div>"
      ],
      "text/plain": [
       "           destination  passanger weather  temperature  time  \\\n",
       "0      No Urgent Place      Alone   Sunny           55   2PM   \n",
       "1      No Urgent Place  Friend(s)   Sunny           80  10AM   \n",
       "2      No Urgent Place  Friend(s)   Sunny           80  10AM   \n",
       "3      No Urgent Place  Friend(s)   Sunny           80   2PM   \n",
       "4      No Urgent Place  Friend(s)   Sunny           80   2PM   \n",
       "...                ...        ...     ...          ...   ...   \n",
       "12679             Home    Partner   Rainy           55   6PM   \n",
       "12680             Work      Alone   Rainy           55   7AM   \n",
       "12681             Work      Alone   Snowy           30   7AM   \n",
       "12682             Work      Alone   Snowy           30   7AM   \n",
       "12683             Work      Alone   Sunny           80   7AM   \n",
       "\n",
       "                      coupon expiration  gender age      maritalStatus  ...  \\\n",
       "0            Restaurant(<20)         1d  Female  21  Unmarried partner  ...   \n",
       "1               Coffee House         2h  Female  21  Unmarried partner  ...   \n",
       "2      Carry out & Take away         2h  Female  21  Unmarried partner  ...   \n",
       "3               Coffee House         2h  Female  21  Unmarried partner  ...   \n",
       "4               Coffee House         1d  Female  21  Unmarried partner  ...   \n",
       "...                      ...        ...     ...  ..                ...  ...   \n",
       "12679  Carry out & Take away         1d    Male  26             Single  ...   \n",
       "12680  Carry out & Take away         1d    Male  26             Single  ...   \n",
       "12681           Coffee House         1d    Male  26             Single  ...   \n",
       "12682                    Bar         1d    Male  26             Single  ...   \n",
       "12683      Restaurant(20-50)         2h    Male  26             Single  ...   \n",
       "\n",
       "       CoffeeHouse CarryAway RestaurantLessThan20 Restaurant20To50  \\\n",
       "0            never       NaN                  4~8              1~3   \n",
       "1            never       NaN                  4~8              1~3   \n",
       "2            never       NaN                  4~8              1~3   \n",
       "3            never       NaN                  4~8              1~3   \n",
       "4            never       NaN                  4~8              1~3   \n",
       "...            ...       ...                  ...              ...   \n",
       "12679        never       1~3                  4~8              1~3   \n",
       "12680        never       1~3                  4~8              1~3   \n",
       "12681        never       1~3                  4~8              1~3   \n",
       "12682        never       1~3                  4~8              1~3   \n",
       "12683        never       1~3                  4~8              1~3   \n",
       "\n",
       "      toCoupon_GEQ5min toCoupon_GEQ15min toCoupon_GEQ25min direction_same  \\\n",
       "0                    1                 0                 0              0   \n",
       "1                    1                 0                 0              0   \n",
       "2                    1                 1                 0              0   \n",
       "3                    1                 1                 0              0   \n",
       "4                    1                 1                 0              0   \n",
       "...                ...               ...               ...            ...   \n",
       "12679                1                 0                 0              1   \n",
       "12680                1                 0                 0              0   \n",
       "12681                1                 0                 0              1   \n",
       "12682                1                 1                 1              0   \n",
       "12683                1                 0                 0              1   \n",
       "\n",
       "      direction_opp  Y  \n",
       "0                 1  1  \n",
       "1                 1  0  \n",
       "2                 1  1  \n",
       "3                 1  0  \n",
       "4                 1  0  \n",
       "...             ... ..  \n",
       "12679             0  1  \n",
       "12680             1  1  \n",
       "12681             0  0  \n",
       "12682             1  0  \n",
       "12683             0  0  \n",
       "\n",
       "[12684 rows x 26 columns]"
      ]
     },
     "execution_count": 2,
     "metadata": {},
     "output_type": "execute_result"
    }
   ],
   "source": [
    "df = pd.read_csv(\"in-vehicle-coupon-recommendation.csv\")\n",
    "df"
   ]
  },
  {
   "cell_type": "code",
   "execution_count": 3,
   "id": "joint-hamilton",
   "metadata": {
    "execution": {
     "iopub.execute_input": "2021-05-24T12:23:28.045296Z",
     "iopub.status.busy": "2021-05-24T12:23:28.044467Z",
     "iopub.status.idle": "2021-05-24T12:23:28.081623Z",
     "shell.execute_reply": "2021-05-24T12:23:28.082278Z",
     "shell.execute_reply.started": "2021-05-24T12:22:56.082016Z"
    },
    "papermill": {
     "duration": 0.067676,
     "end_time": "2021-05-24T12:23:28.082504",
     "exception": false,
     "start_time": "2021-05-24T12:23:28.014828",
     "status": "completed"
    },
    "tags": []
   },
   "outputs": [
    {
     "name": "stdout",
     "output_type": "stream",
     "text": [
      "<class 'pandas.core.frame.DataFrame'>\n",
      "RangeIndex: 12684 entries, 0 to 12683\n",
      "Data columns (total 26 columns):\n",
      " #   Column                Non-Null Count  Dtype \n",
      "---  ------                --------------  ----- \n",
      " 0   destination           12684 non-null  object\n",
      " 1   passanger             12684 non-null  object\n",
      " 2   weather               12684 non-null  object\n",
      " 3   temperature           12684 non-null  int64 \n",
      " 4   time                  12684 non-null  object\n",
      " 5   coupon                12684 non-null  object\n",
      " 6   expiration            12684 non-null  object\n",
      " 7   gender                12684 non-null  object\n",
      " 8   age                   12684 non-null  object\n",
      " 9   maritalStatus         12684 non-null  object\n",
      " 10  has_children          12684 non-null  int64 \n",
      " 11  education             12684 non-null  object\n",
      " 12  occupation            12684 non-null  object\n",
      " 13  income                12684 non-null  object\n",
      " 14  car                   108 non-null    object\n",
      " 15  Bar                   12577 non-null  object\n",
      " 16  CoffeeHouse           12467 non-null  object\n",
      " 17  CarryAway             12533 non-null  object\n",
      " 18  RestaurantLessThan20  12554 non-null  object\n",
      " 19  Restaurant20To50      12495 non-null  object\n",
      " 20  toCoupon_GEQ5min      12684 non-null  int64 \n",
      " 21  toCoupon_GEQ15min     12684 non-null  int64 \n",
      " 22  toCoupon_GEQ25min     12684 non-null  int64 \n",
      " 23  direction_same        12684 non-null  int64 \n",
      " 24  direction_opp         12684 non-null  int64 \n",
      " 25  Y                     12684 non-null  int64 \n",
      "dtypes: int64(8), object(18)\n",
      "memory usage: 2.5+ MB\n"
     ]
    }
   ],
   "source": [
    "df.info()"
   ]
  },
  {
   "cell_type": "markdown",
   "id": "phantom-timothy",
   "metadata": {
    "_cell_guid": "b800ff19-6132-4645-b89f-f054bcb3aec8",
    "_uuid": "6fd16546-6b71-471d-808c-44b8671f37fa",
    "papermill": {
     "duration": 0.02706,
     "end_time": "2021-05-24T12:23:28.138297",
     "exception": false,
     "start_time": "2021-05-24T12:23:28.111237",
     "status": "completed"
    },
    "tags": []
   },
   "source": [
    "# Preprocessing dataset"
   ]
  },
  {
   "cell_type": "markdown",
   "id": "intellectual-manitoba",
   "metadata": {
    "_cell_guid": "5c1782ca-46f2-48b2-bbb8-420c1b46e315",
    "_uuid": "9fc14872-d9dc-48ff-acb3-d95b43bfe7fb",
    "papermill": {
     "duration": 0.026653,
     "end_time": "2021-05-24T12:23:28.192380",
     "exception": false,
     "start_time": "2021-05-24T12:23:28.165727",
     "status": "completed"
    },
    "tags": []
   },
   "source": [
    "## Check for NaN"
   ]
  },
  {
   "cell_type": "code",
   "execution_count": 4,
   "id": "powerful-difference",
   "metadata": {
    "_cell_guid": "1bef116e-b833-477f-b380-c3de61b364f8",
    "_uuid": "47a05a24-2913-4318-9771-e857797f1ea0",
    "execution": {
     "iopub.execute_input": "2021-05-24T12:23:28.250136Z",
     "iopub.status.busy": "2021-05-24T12:23:28.249519Z",
     "iopub.status.idle": "2021-05-24T12:23:28.288542Z",
     "shell.execute_reply": "2021-05-24T12:23:28.289026Z",
     "shell.execute_reply.started": "2021-05-24T12:22:56.118244Z"
    },
    "jupyter": {
     "outputs_hidden": false
    },
    "papermill": {
     "duration": 0.069648,
     "end_time": "2021-05-24T12:23:28.289181",
     "exception": false,
     "start_time": "2021-05-24T12:23:28.219533",
     "status": "completed"
    },
    "tags": []
   },
   "outputs": [
    {
     "data": {
      "text/plain": [
       "car                     0.991485\n",
       "Bar                     0.008436\n",
       "CoffeeHouse             0.017108\n",
       "CarryAway               0.011905\n",
       "RestaurantLessThan20    0.010249\n",
       "Restaurant20To50        0.014901\n",
       "dtype: float64"
      ]
     },
     "execution_count": 4,
     "metadata": {},
     "output_type": "execute_result"
    }
   ],
   "source": [
    "df_na_sum = df.isna().sum()\n",
    "df_na_sum[df_na_sum > 0]/len(df)"
   ]
  },
  {
   "cell_type": "markdown",
   "id": "cardiovascular-acquisition",
   "metadata": {
    "_cell_guid": "fde9aea2-4e0b-4a13-8e44-098d988205d9",
    "_uuid": "20d4f756-5f48-4575-a7b2-4251040d76bd",
    "papermill": {
     "duration": 0.028148,
     "end_time": "2021-05-24T12:23:28.345036",
     "exception": false,
     "start_time": "2021-05-24T12:23:28.316888",
     "status": "completed"
    },
    "tags": []
   },
   "source": [
    "## Drop `car` column since it has 99% `NaN`"
   ]
  },
  {
   "cell_type": "code",
   "execution_count": 5,
   "id": "black-donna",
   "metadata": {
    "_cell_guid": "68ebf3ae-ee01-4758-a0c5-7020564e8c21",
    "_uuid": "2023db80-a961-4e8e-a3ab-611d6f1463b1",
    "execution": {
     "iopub.execute_input": "2021-05-24T12:23:28.407397Z",
     "iopub.status.busy": "2021-05-24T12:23:28.406413Z",
     "iopub.status.idle": "2021-05-24T12:23:28.448071Z",
     "shell.execute_reply": "2021-05-24T12:23:28.447578Z",
     "shell.execute_reply.started": "2021-05-24T12:22:56.151346Z"
    },
    "jupyter": {
     "outputs_hidden": false
    },
    "papermill": {
     "duration": 0.075053,
     "end_time": "2021-05-24T12:23:28.448206",
     "exception": false,
     "start_time": "2021-05-24T12:23:28.373153",
     "status": "completed"
    },
    "tags": []
   },
   "outputs": [
    {
     "data": {
      "text/html": [
       "<div>\n",
       "<style scoped>\n",
       "    .dataframe tbody tr th:only-of-type {\n",
       "        vertical-align: middle;\n",
       "    }\n",
       "\n",
       "    .dataframe tbody tr th {\n",
       "        vertical-align: top;\n",
       "    }\n",
       "\n",
       "    .dataframe thead th {\n",
       "        text-align: right;\n",
       "    }\n",
       "</style>\n",
       "<table border=\"1\" class=\"dataframe\">\n",
       "  <thead>\n",
       "    <tr style=\"text-align: right;\">\n",
       "      <th></th>\n",
       "      <th>destination</th>\n",
       "      <th>passanger</th>\n",
       "      <th>weather</th>\n",
       "      <th>temperature</th>\n",
       "      <th>time</th>\n",
       "      <th>coupon</th>\n",
       "      <th>expiration</th>\n",
       "      <th>gender</th>\n",
       "      <th>age</th>\n",
       "      <th>maritalStatus</th>\n",
       "      <th>...</th>\n",
       "      <th>CoffeeHouse</th>\n",
       "      <th>CarryAway</th>\n",
       "      <th>RestaurantLessThan20</th>\n",
       "      <th>Restaurant20To50</th>\n",
       "      <th>toCoupon_GEQ5min</th>\n",
       "      <th>toCoupon_GEQ15min</th>\n",
       "      <th>toCoupon_GEQ25min</th>\n",
       "      <th>direction_same</th>\n",
       "      <th>direction_opp</th>\n",
       "      <th>Y</th>\n",
       "    </tr>\n",
       "  </thead>\n",
       "  <tbody>\n",
       "    <tr>\n",
       "      <th>0</th>\n",
       "      <td>No Urgent Place</td>\n",
       "      <td>Alone</td>\n",
       "      <td>Sunny</td>\n",
       "      <td>55</td>\n",
       "      <td>2PM</td>\n",
       "      <td>Restaurant(&lt;20)</td>\n",
       "      <td>1d</td>\n",
       "      <td>Female</td>\n",
       "      <td>21</td>\n",
       "      <td>Unmarried partner</td>\n",
       "      <td>...</td>\n",
       "      <td>never</td>\n",
       "      <td>NaN</td>\n",
       "      <td>4~8</td>\n",
       "      <td>1~3</td>\n",
       "      <td>1</td>\n",
       "      <td>0</td>\n",
       "      <td>0</td>\n",
       "      <td>0</td>\n",
       "      <td>1</td>\n",
       "      <td>1</td>\n",
       "    </tr>\n",
       "    <tr>\n",
       "      <th>1</th>\n",
       "      <td>No Urgent Place</td>\n",
       "      <td>Friend(s)</td>\n",
       "      <td>Sunny</td>\n",
       "      <td>80</td>\n",
       "      <td>10AM</td>\n",
       "      <td>Coffee House</td>\n",
       "      <td>2h</td>\n",
       "      <td>Female</td>\n",
       "      <td>21</td>\n",
       "      <td>Unmarried partner</td>\n",
       "      <td>...</td>\n",
       "      <td>never</td>\n",
       "      <td>NaN</td>\n",
       "      <td>4~8</td>\n",
       "      <td>1~3</td>\n",
       "      <td>1</td>\n",
       "      <td>0</td>\n",
       "      <td>0</td>\n",
       "      <td>0</td>\n",
       "      <td>1</td>\n",
       "      <td>0</td>\n",
       "    </tr>\n",
       "    <tr>\n",
       "      <th>2</th>\n",
       "      <td>No Urgent Place</td>\n",
       "      <td>Friend(s)</td>\n",
       "      <td>Sunny</td>\n",
       "      <td>80</td>\n",
       "      <td>10AM</td>\n",
       "      <td>Carry out &amp; Take away</td>\n",
       "      <td>2h</td>\n",
       "      <td>Female</td>\n",
       "      <td>21</td>\n",
       "      <td>Unmarried partner</td>\n",
       "      <td>...</td>\n",
       "      <td>never</td>\n",
       "      <td>NaN</td>\n",
       "      <td>4~8</td>\n",
       "      <td>1~3</td>\n",
       "      <td>1</td>\n",
       "      <td>1</td>\n",
       "      <td>0</td>\n",
       "      <td>0</td>\n",
       "      <td>1</td>\n",
       "      <td>1</td>\n",
       "    </tr>\n",
       "    <tr>\n",
       "      <th>3</th>\n",
       "      <td>No Urgent Place</td>\n",
       "      <td>Friend(s)</td>\n",
       "      <td>Sunny</td>\n",
       "      <td>80</td>\n",
       "      <td>2PM</td>\n",
       "      <td>Coffee House</td>\n",
       "      <td>2h</td>\n",
       "      <td>Female</td>\n",
       "      <td>21</td>\n",
       "      <td>Unmarried partner</td>\n",
       "      <td>...</td>\n",
       "      <td>never</td>\n",
       "      <td>NaN</td>\n",
       "      <td>4~8</td>\n",
       "      <td>1~3</td>\n",
       "      <td>1</td>\n",
       "      <td>1</td>\n",
       "      <td>0</td>\n",
       "      <td>0</td>\n",
       "      <td>1</td>\n",
       "      <td>0</td>\n",
       "    </tr>\n",
       "    <tr>\n",
       "      <th>4</th>\n",
       "      <td>No Urgent Place</td>\n",
       "      <td>Friend(s)</td>\n",
       "      <td>Sunny</td>\n",
       "      <td>80</td>\n",
       "      <td>2PM</td>\n",
       "      <td>Coffee House</td>\n",
       "      <td>1d</td>\n",
       "      <td>Female</td>\n",
       "      <td>21</td>\n",
       "      <td>Unmarried partner</td>\n",
       "      <td>...</td>\n",
       "      <td>never</td>\n",
       "      <td>NaN</td>\n",
       "      <td>4~8</td>\n",
       "      <td>1~3</td>\n",
       "      <td>1</td>\n",
       "      <td>1</td>\n",
       "      <td>0</td>\n",
       "      <td>0</td>\n",
       "      <td>1</td>\n",
       "      <td>0</td>\n",
       "    </tr>\n",
       "    <tr>\n",
       "      <th>...</th>\n",
       "      <td>...</td>\n",
       "      <td>...</td>\n",
       "      <td>...</td>\n",
       "      <td>...</td>\n",
       "      <td>...</td>\n",
       "      <td>...</td>\n",
       "      <td>...</td>\n",
       "      <td>...</td>\n",
       "      <td>...</td>\n",
       "      <td>...</td>\n",
       "      <td>...</td>\n",
       "      <td>...</td>\n",
       "      <td>...</td>\n",
       "      <td>...</td>\n",
       "      <td>...</td>\n",
       "      <td>...</td>\n",
       "      <td>...</td>\n",
       "      <td>...</td>\n",
       "      <td>...</td>\n",
       "      <td>...</td>\n",
       "      <td>...</td>\n",
       "    </tr>\n",
       "    <tr>\n",
       "      <th>12679</th>\n",
       "      <td>Home</td>\n",
       "      <td>Partner</td>\n",
       "      <td>Rainy</td>\n",
       "      <td>55</td>\n",
       "      <td>6PM</td>\n",
       "      <td>Carry out &amp; Take away</td>\n",
       "      <td>1d</td>\n",
       "      <td>Male</td>\n",
       "      <td>26</td>\n",
       "      <td>Single</td>\n",
       "      <td>...</td>\n",
       "      <td>never</td>\n",
       "      <td>1~3</td>\n",
       "      <td>4~8</td>\n",
       "      <td>1~3</td>\n",
       "      <td>1</td>\n",
       "      <td>0</td>\n",
       "      <td>0</td>\n",
       "      <td>1</td>\n",
       "      <td>0</td>\n",
       "      <td>1</td>\n",
       "    </tr>\n",
       "    <tr>\n",
       "      <th>12680</th>\n",
       "      <td>Work</td>\n",
       "      <td>Alone</td>\n",
       "      <td>Rainy</td>\n",
       "      <td>55</td>\n",
       "      <td>7AM</td>\n",
       "      <td>Carry out &amp; Take away</td>\n",
       "      <td>1d</td>\n",
       "      <td>Male</td>\n",
       "      <td>26</td>\n",
       "      <td>Single</td>\n",
       "      <td>...</td>\n",
       "      <td>never</td>\n",
       "      <td>1~3</td>\n",
       "      <td>4~8</td>\n",
       "      <td>1~3</td>\n",
       "      <td>1</td>\n",
       "      <td>0</td>\n",
       "      <td>0</td>\n",
       "      <td>0</td>\n",
       "      <td>1</td>\n",
       "      <td>1</td>\n",
       "    </tr>\n",
       "    <tr>\n",
       "      <th>12681</th>\n",
       "      <td>Work</td>\n",
       "      <td>Alone</td>\n",
       "      <td>Snowy</td>\n",
       "      <td>30</td>\n",
       "      <td>7AM</td>\n",
       "      <td>Coffee House</td>\n",
       "      <td>1d</td>\n",
       "      <td>Male</td>\n",
       "      <td>26</td>\n",
       "      <td>Single</td>\n",
       "      <td>...</td>\n",
       "      <td>never</td>\n",
       "      <td>1~3</td>\n",
       "      <td>4~8</td>\n",
       "      <td>1~3</td>\n",
       "      <td>1</td>\n",
       "      <td>0</td>\n",
       "      <td>0</td>\n",
       "      <td>1</td>\n",
       "      <td>0</td>\n",
       "      <td>0</td>\n",
       "    </tr>\n",
       "    <tr>\n",
       "      <th>12682</th>\n",
       "      <td>Work</td>\n",
       "      <td>Alone</td>\n",
       "      <td>Snowy</td>\n",
       "      <td>30</td>\n",
       "      <td>7AM</td>\n",
       "      <td>Bar</td>\n",
       "      <td>1d</td>\n",
       "      <td>Male</td>\n",
       "      <td>26</td>\n",
       "      <td>Single</td>\n",
       "      <td>...</td>\n",
       "      <td>never</td>\n",
       "      <td>1~3</td>\n",
       "      <td>4~8</td>\n",
       "      <td>1~3</td>\n",
       "      <td>1</td>\n",
       "      <td>1</td>\n",
       "      <td>1</td>\n",
       "      <td>0</td>\n",
       "      <td>1</td>\n",
       "      <td>0</td>\n",
       "    </tr>\n",
       "    <tr>\n",
       "      <th>12683</th>\n",
       "      <td>Work</td>\n",
       "      <td>Alone</td>\n",
       "      <td>Sunny</td>\n",
       "      <td>80</td>\n",
       "      <td>7AM</td>\n",
       "      <td>Restaurant(20-50)</td>\n",
       "      <td>2h</td>\n",
       "      <td>Male</td>\n",
       "      <td>26</td>\n",
       "      <td>Single</td>\n",
       "      <td>...</td>\n",
       "      <td>never</td>\n",
       "      <td>1~3</td>\n",
       "      <td>4~8</td>\n",
       "      <td>1~3</td>\n",
       "      <td>1</td>\n",
       "      <td>0</td>\n",
       "      <td>0</td>\n",
       "      <td>1</td>\n",
       "      <td>0</td>\n",
       "      <td>0</td>\n",
       "    </tr>\n",
       "  </tbody>\n",
       "</table>\n",
       "<p>12684 rows × 25 columns</p>\n",
       "</div>"
      ],
      "text/plain": [
       "           destination  passanger weather  temperature  time  \\\n",
       "0      No Urgent Place      Alone   Sunny           55   2PM   \n",
       "1      No Urgent Place  Friend(s)   Sunny           80  10AM   \n",
       "2      No Urgent Place  Friend(s)   Sunny           80  10AM   \n",
       "3      No Urgent Place  Friend(s)   Sunny           80   2PM   \n",
       "4      No Urgent Place  Friend(s)   Sunny           80   2PM   \n",
       "...                ...        ...     ...          ...   ...   \n",
       "12679             Home    Partner   Rainy           55   6PM   \n",
       "12680             Work      Alone   Rainy           55   7AM   \n",
       "12681             Work      Alone   Snowy           30   7AM   \n",
       "12682             Work      Alone   Snowy           30   7AM   \n",
       "12683             Work      Alone   Sunny           80   7AM   \n",
       "\n",
       "                      coupon expiration  gender age      maritalStatus  ...  \\\n",
       "0            Restaurant(<20)         1d  Female  21  Unmarried partner  ...   \n",
       "1               Coffee House         2h  Female  21  Unmarried partner  ...   \n",
       "2      Carry out & Take away         2h  Female  21  Unmarried partner  ...   \n",
       "3               Coffee House         2h  Female  21  Unmarried partner  ...   \n",
       "4               Coffee House         1d  Female  21  Unmarried partner  ...   \n",
       "...                      ...        ...     ...  ..                ...  ...   \n",
       "12679  Carry out & Take away         1d    Male  26             Single  ...   \n",
       "12680  Carry out & Take away         1d    Male  26             Single  ...   \n",
       "12681           Coffee House         1d    Male  26             Single  ...   \n",
       "12682                    Bar         1d    Male  26             Single  ...   \n",
       "12683      Restaurant(20-50)         2h    Male  26             Single  ...   \n",
       "\n",
       "       CoffeeHouse CarryAway RestaurantLessThan20 Restaurant20To50  \\\n",
       "0            never       NaN                  4~8              1~3   \n",
       "1            never       NaN                  4~8              1~3   \n",
       "2            never       NaN                  4~8              1~3   \n",
       "3            never       NaN                  4~8              1~3   \n",
       "4            never       NaN                  4~8              1~3   \n",
       "...            ...       ...                  ...              ...   \n",
       "12679        never       1~3                  4~8              1~3   \n",
       "12680        never       1~3                  4~8              1~3   \n",
       "12681        never       1~3                  4~8              1~3   \n",
       "12682        never       1~3                  4~8              1~3   \n",
       "12683        never       1~3                  4~8              1~3   \n",
       "\n",
       "      toCoupon_GEQ5min toCoupon_GEQ15min toCoupon_GEQ25min direction_same  \\\n",
       "0                    1                 0                 0              0   \n",
       "1                    1                 0                 0              0   \n",
       "2                    1                 1                 0              0   \n",
       "3                    1                 1                 0              0   \n",
       "4                    1                 1                 0              0   \n",
       "...                ...               ...               ...            ...   \n",
       "12679                1                 0                 0              1   \n",
       "12680                1                 0                 0              0   \n",
       "12681                1                 0                 0              1   \n",
       "12682                1                 1                 1              0   \n",
       "12683                1                 0                 0              1   \n",
       "\n",
       "      direction_opp  Y  \n",
       "0                 1  1  \n",
       "1                 1  0  \n",
       "2                 1  1  \n",
       "3                 1  0  \n",
       "4                 1  0  \n",
       "...             ... ..  \n",
       "12679             0  1  \n",
       "12680             1  1  \n",
       "12681             0  0  \n",
       "12682             1  0  \n",
       "12683             0  0  \n",
       "\n",
       "[12684 rows x 25 columns]"
      ]
     },
     "execution_count": 5,
     "metadata": {},
     "output_type": "execute_result"
    }
   ],
   "source": [
    "df.drop('car', axis=1, inplace=True)\n",
    "df"
   ]
  },
  {
   "cell_type": "code",
   "execution_count": 6,
   "id": "161f6b8d",
   "metadata": {},
   "outputs": [
    {
     "name": "stdout",
     "output_type": "stream",
     "text": [
      "<class 'pandas.core.frame.DataFrame'>\n",
      "RangeIndex: 12684 entries, 0 to 12683\n",
      "Data columns (total 25 columns):\n",
      " #   Column                Non-Null Count  Dtype \n",
      "---  ------                --------------  ----- \n",
      " 0   destination           12684 non-null  object\n",
      " 1   passanger             12684 non-null  object\n",
      " 2   weather               12684 non-null  object\n",
      " 3   temperature           12684 non-null  int64 \n",
      " 4   time                  12684 non-null  object\n",
      " 5   coupon                12684 non-null  object\n",
      " 6   expiration            12684 non-null  object\n",
      " 7   gender                12684 non-null  object\n",
      " 8   age                   12684 non-null  object\n",
      " 9   maritalStatus         12684 non-null  object\n",
      " 10  has_children          12684 non-null  int64 \n",
      " 11  education             12684 non-null  object\n",
      " 12  occupation            12684 non-null  object\n",
      " 13  income                12684 non-null  object\n",
      " 14  Bar                   12577 non-null  object\n",
      " 15  CoffeeHouse           12467 non-null  object\n",
      " 16  CarryAway             12533 non-null  object\n",
      " 17  RestaurantLessThan20  12554 non-null  object\n",
      " 18  Restaurant20To50      12495 non-null  object\n",
      " 19  toCoupon_GEQ5min      12684 non-null  int64 \n",
      " 20  toCoupon_GEQ15min     12684 non-null  int64 \n",
      " 21  toCoupon_GEQ25min     12684 non-null  int64 \n",
      " 22  direction_same        12684 non-null  int64 \n",
      " 23  direction_opp         12684 non-null  int64 \n",
      " 24  Y                     12684 non-null  int64 \n",
      "dtypes: int64(8), object(17)\n",
      "memory usage: 2.4+ MB\n"
     ]
    }
   ],
   "source": [
    "df.info()"
   ]
  },
  {
   "cell_type": "markdown",
   "id": "federal-burden",
   "metadata": {
    "_cell_guid": "7f0a9d77-c206-43cd-bbb7-50f651da520e",
    "_uuid": "b201a116-f5ce-49fb-94a7-a77c86f161a9",
    "papermill": {
     "duration": 0.029316,
     "end_time": "2021-05-24T12:23:28.506830",
     "exception": false,
     "start_time": "2021-05-24T12:23:28.477514",
     "status": "completed"
    },
    "tags": []
   },
   "source": [
    "## Drop `NaN` in `CarryAway` and `RestaurantLessThan20` since it doesn't allow `NaN` and it takes small percent of dataset"
   ]
  },
  {
   "cell_type": "code",
   "execution_count": 7,
   "id": "former-consensus",
   "metadata": {
    "_cell_guid": "fb11c681-6455-4787-a88c-533361e14af8",
    "_uuid": "ff5fc0d2-1c57-438d-914e-69031bddc43a",
    "execution": {
     "iopub.execute_input": "2021-05-24T12:23:28.569208Z",
     "iopub.status.busy": "2021-05-24T12:23:28.568359Z",
     "iopub.status.idle": "2021-05-24T12:23:28.614860Z",
     "shell.execute_reply": "2021-05-24T12:23:28.615370Z",
     "shell.execute_reply.started": "2021-05-24T12:22:56.198660Z"
    },
    "jupyter": {
     "outputs_hidden": false
    },
    "papermill": {
     "duration": 0.079473,
     "end_time": "2021-05-24T12:23:28.615524",
     "exception": false,
     "start_time": "2021-05-24T12:23:28.536051",
     "status": "completed"
    },
    "tags": []
   },
   "outputs": [
    {
     "data": {
      "text/html": [
       "<div>\n",
       "<style scoped>\n",
       "    .dataframe tbody tr th:only-of-type {\n",
       "        vertical-align: middle;\n",
       "    }\n",
       "\n",
       "    .dataframe tbody tr th {\n",
       "        vertical-align: top;\n",
       "    }\n",
       "\n",
       "    .dataframe thead th {\n",
       "        text-align: right;\n",
       "    }\n",
       "</style>\n",
       "<table border=\"1\" class=\"dataframe\">\n",
       "  <thead>\n",
       "    <tr style=\"text-align: right;\">\n",
       "      <th></th>\n",
       "      <th>destination</th>\n",
       "      <th>passanger</th>\n",
       "      <th>weather</th>\n",
       "      <th>temperature</th>\n",
       "      <th>time</th>\n",
       "      <th>coupon</th>\n",
       "      <th>expiration</th>\n",
       "      <th>gender</th>\n",
       "      <th>age</th>\n",
       "      <th>maritalStatus</th>\n",
       "      <th>...</th>\n",
       "      <th>CoffeeHouse</th>\n",
       "      <th>CarryAway</th>\n",
       "      <th>RestaurantLessThan20</th>\n",
       "      <th>Restaurant20To50</th>\n",
       "      <th>toCoupon_GEQ5min</th>\n",
       "      <th>toCoupon_GEQ15min</th>\n",
       "      <th>toCoupon_GEQ25min</th>\n",
       "      <th>direction_same</th>\n",
       "      <th>direction_opp</th>\n",
       "      <th>Y</th>\n",
       "    </tr>\n",
       "  </thead>\n",
       "  <tbody>\n",
       "    <tr>\n",
       "      <th>22</th>\n",
       "      <td>No Urgent Place</td>\n",
       "      <td>Alone</td>\n",
       "      <td>Sunny</td>\n",
       "      <td>55</td>\n",
       "      <td>2PM</td>\n",
       "      <td>Restaurant(&lt;20)</td>\n",
       "      <td>1d</td>\n",
       "      <td>Male</td>\n",
       "      <td>21</td>\n",
       "      <td>Single</td>\n",
       "      <td>...</td>\n",
       "      <td>less1</td>\n",
       "      <td>4~8</td>\n",
       "      <td>4~8</td>\n",
       "      <td>less1</td>\n",
       "      <td>1</td>\n",
       "      <td>0</td>\n",
       "      <td>0</td>\n",
       "      <td>0</td>\n",
       "      <td>1</td>\n",
       "      <td>1</td>\n",
       "    </tr>\n",
       "    <tr>\n",
       "      <th>23</th>\n",
       "      <td>No Urgent Place</td>\n",
       "      <td>Friend(s)</td>\n",
       "      <td>Sunny</td>\n",
       "      <td>80</td>\n",
       "      <td>10AM</td>\n",
       "      <td>Coffee House</td>\n",
       "      <td>2h</td>\n",
       "      <td>Male</td>\n",
       "      <td>21</td>\n",
       "      <td>Single</td>\n",
       "      <td>...</td>\n",
       "      <td>less1</td>\n",
       "      <td>4~8</td>\n",
       "      <td>4~8</td>\n",
       "      <td>less1</td>\n",
       "      <td>1</td>\n",
       "      <td>0</td>\n",
       "      <td>0</td>\n",
       "      <td>0</td>\n",
       "      <td>1</td>\n",
       "      <td>0</td>\n",
       "    </tr>\n",
       "    <tr>\n",
       "      <th>24</th>\n",
       "      <td>No Urgent Place</td>\n",
       "      <td>Friend(s)</td>\n",
       "      <td>Sunny</td>\n",
       "      <td>80</td>\n",
       "      <td>10AM</td>\n",
       "      <td>Bar</td>\n",
       "      <td>1d</td>\n",
       "      <td>Male</td>\n",
       "      <td>21</td>\n",
       "      <td>Single</td>\n",
       "      <td>...</td>\n",
       "      <td>less1</td>\n",
       "      <td>4~8</td>\n",
       "      <td>4~8</td>\n",
       "      <td>less1</td>\n",
       "      <td>1</td>\n",
       "      <td>0</td>\n",
       "      <td>0</td>\n",
       "      <td>0</td>\n",
       "      <td>1</td>\n",
       "      <td>1</td>\n",
       "    </tr>\n",
       "    <tr>\n",
       "      <th>25</th>\n",
       "      <td>No Urgent Place</td>\n",
       "      <td>Friend(s)</td>\n",
       "      <td>Sunny</td>\n",
       "      <td>80</td>\n",
       "      <td>10AM</td>\n",
       "      <td>Carry out &amp; Take away</td>\n",
       "      <td>2h</td>\n",
       "      <td>Male</td>\n",
       "      <td>21</td>\n",
       "      <td>Single</td>\n",
       "      <td>...</td>\n",
       "      <td>less1</td>\n",
       "      <td>4~8</td>\n",
       "      <td>4~8</td>\n",
       "      <td>less1</td>\n",
       "      <td>1</td>\n",
       "      <td>1</td>\n",
       "      <td>0</td>\n",
       "      <td>0</td>\n",
       "      <td>1</td>\n",
       "      <td>0</td>\n",
       "    </tr>\n",
       "    <tr>\n",
       "      <th>26</th>\n",
       "      <td>No Urgent Place</td>\n",
       "      <td>Friend(s)</td>\n",
       "      <td>Sunny</td>\n",
       "      <td>80</td>\n",
       "      <td>2PM</td>\n",
       "      <td>Coffee House</td>\n",
       "      <td>1d</td>\n",
       "      <td>Male</td>\n",
       "      <td>21</td>\n",
       "      <td>Single</td>\n",
       "      <td>...</td>\n",
       "      <td>less1</td>\n",
       "      <td>4~8</td>\n",
       "      <td>4~8</td>\n",
       "      <td>less1</td>\n",
       "      <td>1</td>\n",
       "      <td>0</td>\n",
       "      <td>0</td>\n",
       "      <td>0</td>\n",
       "      <td>1</td>\n",
       "      <td>0</td>\n",
       "    </tr>\n",
       "    <tr>\n",
       "      <th>...</th>\n",
       "      <td>...</td>\n",
       "      <td>...</td>\n",
       "      <td>...</td>\n",
       "      <td>...</td>\n",
       "      <td>...</td>\n",
       "      <td>...</td>\n",
       "      <td>...</td>\n",
       "      <td>...</td>\n",
       "      <td>...</td>\n",
       "      <td>...</td>\n",
       "      <td>...</td>\n",
       "      <td>...</td>\n",
       "      <td>...</td>\n",
       "      <td>...</td>\n",
       "      <td>...</td>\n",
       "      <td>...</td>\n",
       "      <td>...</td>\n",
       "      <td>...</td>\n",
       "      <td>...</td>\n",
       "      <td>...</td>\n",
       "      <td>...</td>\n",
       "    </tr>\n",
       "    <tr>\n",
       "      <th>12679</th>\n",
       "      <td>Home</td>\n",
       "      <td>Partner</td>\n",
       "      <td>Rainy</td>\n",
       "      <td>55</td>\n",
       "      <td>6PM</td>\n",
       "      <td>Carry out &amp; Take away</td>\n",
       "      <td>1d</td>\n",
       "      <td>Male</td>\n",
       "      <td>26</td>\n",
       "      <td>Single</td>\n",
       "      <td>...</td>\n",
       "      <td>never</td>\n",
       "      <td>1~3</td>\n",
       "      <td>4~8</td>\n",
       "      <td>1~3</td>\n",
       "      <td>1</td>\n",
       "      <td>0</td>\n",
       "      <td>0</td>\n",
       "      <td>1</td>\n",
       "      <td>0</td>\n",
       "      <td>1</td>\n",
       "    </tr>\n",
       "    <tr>\n",
       "      <th>12680</th>\n",
       "      <td>Work</td>\n",
       "      <td>Alone</td>\n",
       "      <td>Rainy</td>\n",
       "      <td>55</td>\n",
       "      <td>7AM</td>\n",
       "      <td>Carry out &amp; Take away</td>\n",
       "      <td>1d</td>\n",
       "      <td>Male</td>\n",
       "      <td>26</td>\n",
       "      <td>Single</td>\n",
       "      <td>...</td>\n",
       "      <td>never</td>\n",
       "      <td>1~3</td>\n",
       "      <td>4~8</td>\n",
       "      <td>1~3</td>\n",
       "      <td>1</td>\n",
       "      <td>0</td>\n",
       "      <td>0</td>\n",
       "      <td>0</td>\n",
       "      <td>1</td>\n",
       "      <td>1</td>\n",
       "    </tr>\n",
       "    <tr>\n",
       "      <th>12681</th>\n",
       "      <td>Work</td>\n",
       "      <td>Alone</td>\n",
       "      <td>Snowy</td>\n",
       "      <td>30</td>\n",
       "      <td>7AM</td>\n",
       "      <td>Coffee House</td>\n",
       "      <td>1d</td>\n",
       "      <td>Male</td>\n",
       "      <td>26</td>\n",
       "      <td>Single</td>\n",
       "      <td>...</td>\n",
       "      <td>never</td>\n",
       "      <td>1~3</td>\n",
       "      <td>4~8</td>\n",
       "      <td>1~3</td>\n",
       "      <td>1</td>\n",
       "      <td>0</td>\n",
       "      <td>0</td>\n",
       "      <td>1</td>\n",
       "      <td>0</td>\n",
       "      <td>0</td>\n",
       "    </tr>\n",
       "    <tr>\n",
       "      <th>12682</th>\n",
       "      <td>Work</td>\n",
       "      <td>Alone</td>\n",
       "      <td>Snowy</td>\n",
       "      <td>30</td>\n",
       "      <td>7AM</td>\n",
       "      <td>Bar</td>\n",
       "      <td>1d</td>\n",
       "      <td>Male</td>\n",
       "      <td>26</td>\n",
       "      <td>Single</td>\n",
       "      <td>...</td>\n",
       "      <td>never</td>\n",
       "      <td>1~3</td>\n",
       "      <td>4~8</td>\n",
       "      <td>1~3</td>\n",
       "      <td>1</td>\n",
       "      <td>1</td>\n",
       "      <td>1</td>\n",
       "      <td>0</td>\n",
       "      <td>1</td>\n",
       "      <td>0</td>\n",
       "    </tr>\n",
       "    <tr>\n",
       "      <th>12683</th>\n",
       "      <td>Work</td>\n",
       "      <td>Alone</td>\n",
       "      <td>Sunny</td>\n",
       "      <td>80</td>\n",
       "      <td>7AM</td>\n",
       "      <td>Restaurant(20-50)</td>\n",
       "      <td>2h</td>\n",
       "      <td>Male</td>\n",
       "      <td>26</td>\n",
       "      <td>Single</td>\n",
       "      <td>...</td>\n",
       "      <td>never</td>\n",
       "      <td>1~3</td>\n",
       "      <td>4~8</td>\n",
       "      <td>1~3</td>\n",
       "      <td>1</td>\n",
       "      <td>0</td>\n",
       "      <td>0</td>\n",
       "      <td>1</td>\n",
       "      <td>0</td>\n",
       "      <td>0</td>\n",
       "    </tr>\n",
       "  </tbody>\n",
       "</table>\n",
       "<p>12445 rows × 25 columns</p>\n",
       "</div>"
      ],
      "text/plain": [
       "           destination  passanger weather  temperature  time  \\\n",
       "22     No Urgent Place      Alone   Sunny           55   2PM   \n",
       "23     No Urgent Place  Friend(s)   Sunny           80  10AM   \n",
       "24     No Urgent Place  Friend(s)   Sunny           80  10AM   \n",
       "25     No Urgent Place  Friend(s)   Sunny           80  10AM   \n",
       "26     No Urgent Place  Friend(s)   Sunny           80   2PM   \n",
       "...                ...        ...     ...          ...   ...   \n",
       "12679             Home    Partner   Rainy           55   6PM   \n",
       "12680             Work      Alone   Rainy           55   7AM   \n",
       "12681             Work      Alone   Snowy           30   7AM   \n",
       "12682             Work      Alone   Snowy           30   7AM   \n",
       "12683             Work      Alone   Sunny           80   7AM   \n",
       "\n",
       "                      coupon expiration gender age maritalStatus  ...  \\\n",
       "22           Restaurant(<20)         1d   Male  21        Single  ...   \n",
       "23              Coffee House         2h   Male  21        Single  ...   \n",
       "24                       Bar         1d   Male  21        Single  ...   \n",
       "25     Carry out & Take away         2h   Male  21        Single  ...   \n",
       "26              Coffee House         1d   Male  21        Single  ...   \n",
       "...                      ...        ...    ...  ..           ...  ...   \n",
       "12679  Carry out & Take away         1d   Male  26        Single  ...   \n",
       "12680  Carry out & Take away         1d   Male  26        Single  ...   \n",
       "12681           Coffee House         1d   Male  26        Single  ...   \n",
       "12682                    Bar         1d   Male  26        Single  ...   \n",
       "12683      Restaurant(20-50)         2h   Male  26        Single  ...   \n",
       "\n",
       "       CoffeeHouse CarryAway RestaurantLessThan20 Restaurant20To50  \\\n",
       "22           less1       4~8                  4~8            less1   \n",
       "23           less1       4~8                  4~8            less1   \n",
       "24           less1       4~8                  4~8            less1   \n",
       "25           less1       4~8                  4~8            less1   \n",
       "26           less1       4~8                  4~8            less1   \n",
       "...            ...       ...                  ...              ...   \n",
       "12679        never       1~3                  4~8              1~3   \n",
       "12680        never       1~3                  4~8              1~3   \n",
       "12681        never       1~3                  4~8              1~3   \n",
       "12682        never       1~3                  4~8              1~3   \n",
       "12683        never       1~3                  4~8              1~3   \n",
       "\n",
       "      toCoupon_GEQ5min toCoupon_GEQ15min toCoupon_GEQ25min direction_same  \\\n",
       "22                   1                 0                 0              0   \n",
       "23                   1                 0                 0              0   \n",
       "24                   1                 0                 0              0   \n",
       "25                   1                 1                 0              0   \n",
       "26                   1                 0                 0              0   \n",
       "...                ...               ...               ...            ...   \n",
       "12679                1                 0                 0              1   \n",
       "12680                1                 0                 0              0   \n",
       "12681                1                 0                 0              1   \n",
       "12682                1                 1                 1              0   \n",
       "12683                1                 0                 0              1   \n",
       "\n",
       "      direction_opp  Y  \n",
       "22                1  1  \n",
       "23                1  0  \n",
       "24                1  1  \n",
       "25                1  0  \n",
       "26                1  0  \n",
       "...             ... ..  \n",
       "12679             0  1  \n",
       "12680             1  1  \n",
       "12681             0  0  \n",
       "12682             1  0  \n",
       "12683             0  0  \n",
       "\n",
       "[12445 rows x 25 columns]"
      ]
     },
     "execution_count": 7,
     "metadata": {},
     "output_type": "execute_result"
    }
   ],
   "source": [
    "df.dropna(subset=[\"CarryAway\", \"RestaurantLessThan20\"], inplace=True)\n",
    "df"
   ]
  },
  {
   "cell_type": "code",
   "execution_count": 8,
   "id": "cd42691e",
   "metadata": {},
   "outputs": [
    {
     "name": "stdout",
     "output_type": "stream",
     "text": [
      "<class 'pandas.core.frame.DataFrame'>\n",
      "Int64Index: 12445 entries, 22 to 12683\n",
      "Data columns (total 25 columns):\n",
      " #   Column                Non-Null Count  Dtype \n",
      "---  ------                --------------  ----- \n",
      " 0   destination           12445 non-null  object\n",
      " 1   passanger             12445 non-null  object\n",
      " 2   weather               12445 non-null  object\n",
      " 3   temperature           12445 non-null  int64 \n",
      " 4   time                  12445 non-null  object\n",
      " 5   coupon                12445 non-null  object\n",
      " 6   expiration            12445 non-null  object\n",
      " 7   gender                12445 non-null  object\n",
      " 8   age                   12445 non-null  object\n",
      " 9   maritalStatus         12445 non-null  object\n",
      " 10  has_children          12445 non-null  int64 \n",
      " 11  education             12445 non-null  object\n",
      " 12  occupation            12445 non-null  object\n",
      " 13  income                12445 non-null  object\n",
      " 14  Bar                   12380 non-null  object\n",
      " 15  CoffeeHouse           12270 non-null  object\n",
      " 16  CarryAway             12445 non-null  object\n",
      " 17  RestaurantLessThan20  12445 non-null  object\n",
      " 18  Restaurant20To50      12298 non-null  object\n",
      " 19  toCoupon_GEQ5min      12445 non-null  int64 \n",
      " 20  toCoupon_GEQ15min     12445 non-null  int64 \n",
      " 21  toCoupon_GEQ25min     12445 non-null  int64 \n",
      " 22  direction_same        12445 non-null  int64 \n",
      " 23  direction_opp         12445 non-null  int64 \n",
      " 24  Y                     12445 non-null  int64 \n",
      "dtypes: int64(8), object(17)\n",
      "memory usage: 2.5+ MB\n"
     ]
    }
   ],
   "source": [
    "df.info()"
   ]
  },
  {
   "cell_type": "markdown",
   "id": "thrown-basis",
   "metadata": {
    "_cell_guid": "1f796f57-ac65-4b57-9a20-800b997dc004",
    "_uuid": "4d497929-ee8c-45d9-87e4-6c401337acaa",
    "papermill": {
     "duration": 0.029174,
     "end_time": "2021-05-24T12:23:28.674510",
     "exception": false,
     "start_time": "2021-05-24T12:23:28.645336",
     "status": "completed"
    },
    "tags": []
   },
   "source": [
    "## Change all **object** columns to **category**"
   ]
  },
  {
   "cell_type": "code",
   "execution_count": 9,
   "id": "faced-acoustic",
   "metadata": {
    "_cell_guid": "4f88dc7b-c9f1-4f9a-9c58-c627c9588e12",
    "_uuid": "c9165266-8cb8-4406-8901-cf954240b308",
    "execution": {
     "iopub.execute_input": "2021-05-24T12:23:28.737977Z",
     "iopub.status.busy": "2021-05-24T12:23:28.737045Z",
     "iopub.status.idle": "2021-05-24T12:23:28.828641Z",
     "shell.execute_reply": "2021-05-24T12:23:28.829171Z",
     "shell.execute_reply.started": "2021-05-24T12:22:56.250294Z"
    },
    "jupyter": {
     "outputs_hidden": false
    },
    "papermill": {
     "duration": 0.124666,
     "end_time": "2021-05-24T12:23:28.829329",
     "exception": false,
     "start_time": "2021-05-24T12:23:28.704663",
     "status": "completed"
    },
    "tags": []
   },
   "outputs": [
    {
     "name": "stdout",
     "output_type": "stream",
     "text": [
      "<class 'pandas.core.frame.DataFrame'>\n",
      "Int64Index: 12445 entries, 22 to 12683\n",
      "Data columns (total 25 columns):\n",
      " #   Column                Non-Null Count  Dtype   \n",
      "---  ------                --------------  -----   \n",
      " 0   destination           12445 non-null  category\n",
      " 1   passanger             12445 non-null  category\n",
      " 2   weather               12445 non-null  category\n",
      " 3   temperature           12445 non-null  int64   \n",
      " 4   time                  12445 non-null  category\n",
      " 5   coupon                12445 non-null  category\n",
      " 6   expiration            12445 non-null  category\n",
      " 7   gender                12445 non-null  category\n",
      " 8   age                   12445 non-null  category\n",
      " 9   maritalStatus         12445 non-null  category\n",
      " 10  has_children          12445 non-null  int64   \n",
      " 11  education             12445 non-null  category\n",
      " 12  occupation            12445 non-null  category\n",
      " 13  income                12445 non-null  category\n",
      " 14  Bar                   12380 non-null  category\n",
      " 15  CoffeeHouse           12270 non-null  category\n",
      " 16  CarryAway             12445 non-null  category\n",
      " 17  RestaurantLessThan20  12445 non-null  category\n",
      " 18  Restaurant20To50      12298 non-null  category\n",
      " 19  toCoupon_GEQ5min      12445 non-null  int64   \n",
      " 20  toCoupon_GEQ15min     12445 non-null  int64   \n",
      " 21  toCoupon_GEQ25min     12445 non-null  int64   \n",
      " 22  direction_same        12445 non-null  int64   \n",
      " 23  direction_opp         12445 non-null  int64   \n",
      " 24  Y                     12445 non-null  int64   \n",
      "dtypes: category(17), int64(8)\n",
      "memory usage: 1.1 MB\n"
     ]
    }
   ],
   "source": [
    "for col in df.select_dtypes(include=\"object\").columns:\n",
    "    df[col] = df[col].astype(\"category\")\n",
    "    \n",
    "df.info()"
   ]
  },
  {
   "cell_type": "code",
   "execution_count": 10,
   "id": "7f0f14f5",
   "metadata": {},
   "outputs": [
    {
     "name": "stdout",
     "output_type": "stream",
     "text": [
      "<class 'pandas.core.frame.DataFrame'>\n",
      "Int64Index: 12445 entries, 22 to 12683\n",
      "Data columns (total 25 columns):\n",
      " #   Column                Non-Null Count  Dtype   \n",
      "---  ------                --------------  -----   \n",
      " 0   destination           12445 non-null  category\n",
      " 1   passanger             12445 non-null  category\n",
      " 2   weather               12445 non-null  category\n",
      " 3   temperature           12445 non-null  int64   \n",
      " 4   time                  12445 non-null  category\n",
      " 5   coupon                12445 non-null  category\n",
      " 6   expiration            12445 non-null  category\n",
      " 7   gender                12445 non-null  category\n",
      " 8   age                   12445 non-null  category\n",
      " 9   maritalStatus         12445 non-null  category\n",
      " 10  has_children          12445 non-null  int64   \n",
      " 11  education             12445 non-null  category\n",
      " 12  occupation            12445 non-null  category\n",
      " 13  income                12445 non-null  category\n",
      " 14  Bar                   12380 non-null  category\n",
      " 15  CoffeeHouse           12270 non-null  category\n",
      " 16  CarryAway             12445 non-null  category\n",
      " 17  RestaurantLessThan20  12445 non-null  category\n",
      " 18  Restaurant20To50      12298 non-null  category\n",
      " 19  toCoupon_GEQ5min      12445 non-null  int64   \n",
      " 20  toCoupon_GEQ15min     12445 non-null  int64   \n",
      " 21  toCoupon_GEQ25min     12445 non-null  int64   \n",
      " 22  direction_same        12445 non-null  int64   \n",
      " 23  direction_opp         12445 non-null  int64   \n",
      " 24  Y                     12445 non-null  int64   \n",
      "dtypes: category(17), int64(8)\n",
      "memory usage: 1.1 MB\n"
     ]
    }
   ],
   "source": [
    "df.info()"
   ]
  },
  {
   "cell_type": "markdown",
   "id": "northern-foster",
   "metadata": {
    "_cell_guid": "ae61ef20-af4f-48c7-9232-8e08d2f3b02b",
    "_uuid": "c20ec74d-45a4-4380-bf70-b8fb82d5a075",
    "papermill": {
     "duration": 0.030154,
     "end_time": "2021-05-24T12:23:28.889896",
     "exception": false,
     "start_time": "2021-05-24T12:23:28.859742",
     "status": "completed"
    },
    "tags": []
   },
   "source": [
    "## Visualize dataset"
   ]
  },
  {
   "cell_type": "code",
   "execution_count": 11,
   "id": "native-disney",
   "metadata": {
    "_cell_guid": "729011fb-eeaf-43e6-a155-a742ba8313f6",
    "_uuid": "51c1b2d4-f51f-41c9-8036-8dc69b8cedec",
    "execution": {
     "iopub.execute_input": "2021-05-24T12:23:28.953683Z",
     "iopub.status.busy": "2021-05-24T12:23:28.952825Z",
     "iopub.status.idle": "2021-05-24T12:23:33.542579Z",
     "shell.execute_reply": "2021-05-24T12:23:33.542044Z",
     "shell.execute_reply.started": "2021-05-24T12:22:56.353973Z"
    },
    "jupyter": {
     "outputs_hidden": false
    },
    "papermill": {
     "duration": 4.622369,
     "end_time": "2021-05-24T12:23:33.542719",
     "exception": false,
     "start_time": "2021-05-24T12:23:28.920350",
     "status": "completed"
    },
    "tags": []
   },
   "outputs": [
    {
     "data": {
      "image/png": "[encoded data removed]",
      "text/plain": [
       "<Figure size 432x288 with 1 Axes>"
      ]
     },
     "metadata": {
      "needs_background": "light"
     },
     "output_type": "display_data"
    },
    {
     "data": {
      "image/png": "[encoded data removed]",
      "text/plain": [
       "<Figure size 432x288 with 1 Axes>"
      ]
     },
     "metadata": {
      "needs_background": "light"
     },
     "output_type": "display_data"
    },
    {
     "data": {
      "image/png": "[encoded data removed]",
      "text/plain": [
       "<Figure size 432x288 with 1 Axes>"
      ]
     },
     "metadata": {
      "needs_background": "light"
     },
     "output_type": "display_data"
    },
    {
     "data": {
      "image/png": "[encoded data removed]",
      "text/plain": [
       "<Figure size 432x288 with 1 Axes>"
      ]
     },
     "metadata": {
      "needs_background": "light"
     },
     "output_type": "display_data"
    },
    {
     "data": {
      "image/png": "[encoded data removed]",
      "text/plain": [
       "<Figure size 432x288 with 1 Axes>"
      ]
     },
     "metadata": {
      "needs_background": "light"
     },
     "output_type": "display_data"
    },
    {
     "data": {
      "image/png": "[encoded data removed]",
      "text/plain": [
       "<Figure size 432x288 with 1 Axes>"
      ]
     },
     "metadata": {
      "needs_background": "light"
     },
     "output_type": "display_data"
    },
    {
     "data": {
      "image/png": "[encoded data removed]",
      "text/plain": [
       "<Figure size 432x288 with 1 Axes>"
      ]
     },
     "metadata": {
      "needs_background": "light"
     },
     "output_type": "display_data"
    },
    {
     "data": {
      "image/png": "[encoded data removed]",
      "text/plain": [
       "<Figure size 432x288 with 1 Axes>"
      ]
     },
     "metadata": {
      "needs_background": "light"
     },
     "output_type": "display_data"
    },
    {
     "data": {
      "image/png": "[encoded data removed]",
      "text/plain": [
       "<Figure size 432x288 with 1 Axes>"
      ]
     },
     "metadata": {
      "needs_background": "light"
     },
     "output_type": "display_data"
    },
    {
     "data": {
      "image/png": "[encoded data removed]",
      "text/plain": [
       "<Figure size 432x288 with 1 Axes>"
      ]
     },
     "metadata": {
      "needs_background": "light"
     },
     "output_type": "display_data"
    },
    {
     "data": {
      "image/png": "[encoded data removed]",
      "text/plain": [
       "<Figure size 432x288 with 1 Axes>"
      ]
     },
     "metadata": {
      "needs_background": "light"
     },
     "output_type": "display_data"
    },
    {
     "data": {
      "image/png": "[encoded data removed]",
      "text/plain": [
       "<Figure size 432x288 with 1 Axes>"
      ]
     },
     "metadata": {
      "needs_background": "light"
     },
     "output_type": "display_data"
    },
    {
     "data": {
      "image/png": "[encoded data removed]",
      "text/plain": [
       "<Figure size 432x288 with 1 Axes>"
      ]
     },
     "metadata": {
      "needs_background": "light"
     },
     "output_type": "display_data"
    },
    {
     "data": {
      "image/png": "[encoded data removed]",
      "text/plain": [
       "<Figure size 432x288 with 1 Axes>"
      ]
     },
     "metadata": {
      "needs_background": "light"
     },
     "output_type": "display_data"
    },
    {
     "data": {
      "image/png": "[encoded data removed]",
      "text/plain": [
       "<Figure size 432x288 with 1 Axes>"
      ]
     },
     "metadata": {
      "needs_background": "light"
     },
     "output_type": "display_data"
    },
    {
     "data": {
      "image/png": "[encoded data removed]",
      "text/plain": [
       "<Figure size 432x288 with 1 Axes>"
      ]
     },
     "metadata": {
      "needs_background": "light"
     },
     "output_type": "display_data"
    },
    {
     "data": {
      "image/png": "[encoded data removed]",
      "text/plain": [
       "<Figure size 432x288 with 1 Axes>"
      ]
     },
     "metadata": {
      "needs_background": "light"
     },
     "output_type": "display_data"
    },
    {
     "data": {
      "image/png": "[encoded data removed]",
      "text/plain": [
       "<Figure size 432x288 with 1 Axes>"
      ]
     },
     "metadata": {
      "needs_background": "light"
     },
     "output_type": "display_data"
    },
    {
     "data": {
      "image/png": "[encoded data removed]",
      "text/plain": [
       "<Figure size 432x288 with 1 Axes>"
      ]
     },
     "metadata": {
      "needs_background": "light"
     },
     "output_type": "display_data"
    },
    {
     "data": {
      "image/png": "[encoded data removed]",
      "text/plain": [
       "<Figure size 432x288 with 1 Axes>"
      ]
     },
     "metadata": {
      "needs_background": "light"
     },
     "output_type": "display_data"
    },
    {
     "data": {
      "image/png": "[encoded data removed]",
      "text/plain": [
       "<Figure size 432x288 with 1 Axes>"
      ]
     },
     "metadata": {
      "needs_background": "light"
     },
     "output_type": "display_data"
    },
    {
     "data": {
      "image/png": "[encoded data removed]",
      "text/plain": [
       "<Figure size 432x288 with 1 Axes>"
      ]
     },
     "metadata": {
      "needs_background": "light"
     },
     "output_type": "display_data"
    },
    {
     "data": {
      "image/png": "[encoded data removed]",
      "text/plain": [
       "<Figure size 432x288 with 1 Axes>"
      ]
     },
     "metadata": {
      "needs_background": "light"
     },
     "output_type": "display_data"
    },
    {
     "data": {
      "image/png": "[encoded data removed]",
      "text/plain": [
       "<Figure size 432x288 with 1 Axes>"
      ]
     },
     "metadata": {
      "needs_background": "light"
     },
     "output_type": "display_data"
    }
   ],
   "source": [
    "for col in df.drop('Y', axis=1).columns:\n",
    "    pd.crosstab(df[col], df['Y']).plot(kind='bar')\n",
    "    plt.xlabel(col)\n",
    "    plt.ylabel('Y')\n",
    "    plt.show()"
   ]
  },
  {
   "cell_type": "markdown",
   "id": "rough-democracy",
   "metadata": {
    "_cell_guid": "4cf182fb-6e2e-45f5-8429-5e865a53157d",
    "_uuid": "c9f79871-ae6d-4f6e-8c7e-cb2d075e3c22",
    "papermill": {
     "duration": 0.048565,
     "end_time": "2021-05-24T12:23:33.639003",
     "exception": false,
     "start_time": "2021-05-24T12:23:33.590438",
     "status": "completed"
    },
    "tags": []
   },
   "source": [
    "## Check if dataset is balanced"
   ]
  },
  {
   "cell_type": "code",
   "execution_count": 12,
   "id": "static-committee",
   "metadata": {
    "_cell_guid": "49aed570-0a55-4788-b897-a54416b4a269",
    "_uuid": "1a68b513-d570-4c2f-97ed-de070d98f7ac",
    "execution": {
     "iopub.execute_input": "2021-05-24T12:23:33.741489Z",
     "iopub.status.busy": "2021-05-24T12:23:33.738514Z",
     "iopub.status.idle": "2021-05-24T12:23:33.745409Z",
     "shell.execute_reply": "2021-05-24T12:23:33.744854Z",
     "shell.execute_reply.started": "2021-05-24T12:23:01.296146Z"
    },
    "jupyter": {
     "outputs_hidden": false
    },
    "papermill": {
     "duration": 0.058808,
     "end_time": "2021-05-24T12:23:33.745531",
     "exception": false,
     "start_time": "2021-05-24T12:23:33.686723",
     "status": "completed"
    },
    "tags": []
   },
   "outputs": [
    {
     "data": {
      "text/plain": [
       "1    0.566412\n",
       "0    0.433588\n",
       "Name: Y, dtype: float64"
      ]
     },
     "execution_count": 12,
     "metadata": {},
     "output_type": "execute_result"
    }
   ],
   "source": [
    "df[\"Y\"].value_counts(normalize=True)"
   ]
  },
  {
   "cell_type": "markdown",
   "id": "amateur-piece",
   "metadata": {
    "_cell_guid": "9ef931b6-c243-44d1-af0a-48bbd155cd0e",
    "_uuid": "0407ee76-4eb1-450f-8672-670447d5af6f",
    "papermill": {
     "duration": 0.046417,
     "end_time": "2021-05-24T12:23:33.838781",
     "exception": false,
     "start_time": "2021-05-24T12:23:33.792364",
     "status": "completed"
    },
    "tags": []
   },
   "source": [
    "# Value encoding"
   ]
  },
  {
   "cell_type": "code",
   "execution_count": 13,
   "id": "integrated-germany",
   "metadata": {
    "_cell_guid": "1f76b8a8-2f86-473f-9ef2-3c3c18574a04",
    "_uuid": "07c1f630-21ca-47ef-9764-1150bffa9709",
    "execution": {
     "iopub.execute_input": "2021-05-24T12:23:33.939462Z",
     "iopub.status.busy": "2021-05-24T12:23:33.938527Z",
     "iopub.status.idle": "2021-05-24T12:23:33.942857Z",
     "shell.execute_reply": "2021-05-24T12:23:33.942239Z",
     "shell.execute_reply.started": "2021-05-24T12:23:01.309514Z"
    },
    "jupyter": {
     "outputs_hidden": false
    },
    "papermill": {
     "duration": 0.058295,
     "end_time": "2021-05-24T12:23:33.943001",
     "exception": false,
     "start_time": "2021-05-24T12:23:33.884706",
     "status": "completed"
    },
    "tags": []
   },
   "outputs": [
    {
     "data": {
      "text/plain": [
       "destination             category\n",
       "passanger               category\n",
       "weather                 category\n",
       "temperature                int64\n",
       "time                    category\n",
       "coupon                  category\n",
       "expiration              category\n",
       "gender                  category\n",
       "age                     category\n",
       "maritalStatus           category\n",
       "has_children               int64\n",
       "education               category\n",
       "occupation              category\n",
       "income                  category\n",
       "Bar                     category\n",
       "CoffeeHouse             category\n",
       "CarryAway               category\n",
       "RestaurantLessThan20    category\n",
       "Restaurant20To50        category\n",
       "toCoupon_GEQ5min           int64\n",
       "toCoupon_GEQ15min          int64\n",
       "toCoupon_GEQ25min          int64\n",
       "direction_same             int64\n",
       "direction_opp              int64\n",
       "Y                          int64\n",
       "dtype: object"
      ]
     },
     "execution_count": 13,
     "metadata": {},
     "output_type": "execute_result"
    }
   ],
   "source": [
    "df.dtypes"
   ]
  },
  {
   "cell_type": "code",
   "execution_count": 14,
   "id": "atlantic-protein",
   "metadata": {
    "_cell_guid": "57dfe796-a656-40cc-95fa-c1039bb9c904",
    "_uuid": "82f8a95f-f6d6-4358-aea3-a514cc74916b",
    "execution": {
     "iopub.execute_input": "2021-05-24T12:23:34.047440Z",
     "iopub.status.busy": "2021-05-24T12:23:34.045299Z",
     "iopub.status.idle": "2021-05-24T12:23:34.199584Z",
     "shell.execute_reply": "2021-05-24T12:23:34.199084Z",
     "shell.execute_reply.started": "2021-05-24T12:23:01.324743Z"
    },
    "jupyter": {
     "outputs_hidden": false
    },
    "papermill": {
     "duration": 0.209439,
     "end_time": "2021-05-24T12:23:34.199712",
     "exception": false,
     "start_time": "2021-05-24T12:23:33.990273",
     "status": "completed"
    },
    "tags": []
   },
   "outputs": [],
   "source": [
    "x = df.drop('Y', axis=1)\n",
    "y = df['Y']\n",
    "\n",
    "ohe = OneHotEncoder(sparse=False)\n",
    "x = pd.DataFrame(ohe.fit_transform(x), index=y.index, columns=ohe.get_feature_names(x.columns))"
   ]
  },
  {
   "cell_type": "markdown",
   "id": "brown-consequence",
   "metadata": {
    "_cell_guid": "8ecf40c7-c49d-4698-9caa-68e0022030b0",
    "_uuid": "551d779b-76cc-45c2-a3c8-f9526ba94781",
    "papermill": {
     "duration": 0.0481,
     "end_time": "2021-05-24T12:23:34.296856",
     "exception": false,
     "start_time": "2021-05-24T12:23:34.248756",
     "status": "completed"
    },
    "tags": []
   },
   "source": [
    "# Split data for train and test (k-fold)"
   ]
  },
  {
   "cell_type": "code",
   "execution_count": 15,
   "id": "lucky-admission",
   "metadata": {
    "_cell_guid": "689a4b69-10c8-4d97-a26b-79b8ef48f0bc",
    "_uuid": "aca8af19-0806-430f-aab6-0f378ba33370",
    "execution": {
     "iopub.execute_input": "2021-05-24T12:23:34.395910Z",
     "iopub.status.busy": "2021-05-24T12:23:34.395053Z",
     "iopub.status.idle": "2021-05-24T12:23:34.397993Z",
     "shell.execute_reply": "2021-05-24T12:23:34.397348Z",
     "shell.execute_reply.started": "2021-05-24T12:23:01.487047Z"
    },
    "jupyter": {
     "outputs_hidden": false
    },
    "papermill": {
     "duration": 0.053672,
     "end_time": "2021-05-24T12:23:34.398125",
     "exception": false,
     "start_time": "2021-05-24T12:23:34.344453",
     "status": "completed"
    },
    "tags": []
   },
   "outputs": [],
   "source": [
    "kf = StratifiedKFold(\n",
    "    n_splits=5,\n",
    "    shuffle=True,\n",
    "    random_state=7\n",
    ")"
   ]
  },
  {
   "cell_type": "markdown",
   "id": "proved-withdrawal",
   "metadata": {
    "_cell_guid": "ae417eb6-2798-4931-b847-733cf9e78060",
    "_uuid": "4ab9b6ac-03ac-48ac-9dca-164e589295e4",
    "papermill": {
     "duration": 0.062778,
     "end_time": "2021-05-24T12:24:03.680865",
     "exception": false,
     "start_time": "2021-05-24T12:24:03.618087",
     "status": "completed"
    },
    "tags": []
   },
   "source": [
    "## Random Forest classifier"
   ]
  },
  {
   "cell_type": "code",
   "execution_count": 16,
   "id": "floral-screening",
   "metadata": {
    "_cell_guid": "387df321-7b1c-4a73-8f80-50ac386dc0ff",
    "_uuid": "6a601f60-0eb3-41d7-b5a3-3740efd82f62",
    "execution": {
     "iopub.execute_input": "2021-05-24T12:24:03.793245Z",
     "iopub.status.busy": "2021-05-24T12:24:03.792150Z",
     "iopub.status.idle": "2021-05-24T12:24:06.882144Z",
     "shell.execute_reply": "2021-05-24T12:24:06.881486Z"
    },
    "jupyter": {
     "outputs_hidden": false
    },
    "papermill": {
     "duration": 3.149952,
     "end_time": "2021-05-24T12:24:06.882276",
     "exception": false,
     "start_time": "2021-05-24T12:24:03.732324",
     "status": "completed"
    },
    "tags": []
   },
   "outputs": [
    {
     "name": "stdout",
     "output_type": "stream",
     "text": [
      "TRAIN: [    0     3     4 ... 12439 12441 12442] TEST: [    1     2     8 ... 12440 12443 12444]\n",
      "TRAIN: [    0     1     2 ... 12442 12443 12444] TEST: [    4    24    27 ... 12425 12431 12437]\n",
      "TRAIN: [    0     1     2 ... 12442 12443 12444] TEST: [    6    12    14 ... 12417 12423 12439]\n",
      "TRAIN: [    1     2     3 ... 12442 12443 12444] TEST: [    0     5    11 ... 12433 12434 12441]\n",
      "TRAIN: [    0     1     2 ... 12441 12443 12444] TEST: [    3     7    10 ... 12428 12432 12442]\n",
      "Classification Report: \n",
      "               precision    recall  f1-score   support\n",
      "\n",
      "           0       0.75      0.70      0.72      1080\n",
      "           1       0.78      0.82      0.80      1409\n",
      "\n",
      "    accuracy                           0.77      2489\n",
      "   macro avg       0.76      0.76      0.76      2489\n",
      "weighted avg       0.77      0.77      0.77      2489\n",
      "\n"
     ]
    }
   ],
   "source": [
    "rfc = RandomForestClassifier()\n",
    "\n",
    "rfc_acc = 0\n",
    "rfc_cfm = np.zeros((2, 2))\n",
    "\n",
    "for train_index, test_index in kf.split(x,y):\n",
    "    print(\"TRAIN:\", train_index, \"TEST:\", test_index)\n",
    "    x_train, x_test = x.iloc[train_index], x.iloc[test_index]\n",
    "    y_train, y_test = y.iloc[train_index], y.iloc[test_index]\n",
    "    rfc.fit(x_train, y_train)\n",
    "    y_pred = rfc.predict(x_test)\n",
    "    rfc_acc = rfc_acc + accuracy_score(y_test, y_pred)\n",
    "    rfc_cfm = rfc_cfm + confusion_matrix(y_test, y_pred)\n",
    "print(\"Classification Report: \\n\", classification_report(y_test, y_pred))"
   ]
  },
  {
   "cell_type": "markdown",
   "id": "6ae90962",
   "metadata": {},
   "source": [
    "# Accuracy and Mean Score "
   ]
  },
  {
   "cell_type": "code",
   "execution_count": 17,
   "id": "60993923",
   "metadata": {},
   "outputs": [
    {
     "name": "stdout",
     "output_type": "stream",
     "text": [
      "Average Cross Validation score :0.6863800723182001\n",
      "standard deviation of results :0.016556732661392713\n"
     ]
    }
   ],
   "source": [
    "from sklearn.model_selection import cross_val_score\n",
    "rfc = RandomForestClassifier()\n",
    "score=cross_val_score(rfc,x,y,cv=5)\n",
    "print(\"Average Cross Validation score :{}\".format(score.mean()))\n",
    "print(\"standard deviation of results :{}\".format(score.std()))"
   ]
  },
  {
   "cell_type": "markdown",
   "id": "genetic-means",
   "metadata": {
    "_cell_guid": "d0d25023-cf98-45f3-bf1c-05dd64c8d464",
    "_uuid": "696917f3-e6f7-423a-8fd1-b3f9d8025902",
    "papermill": {
     "duration": 0.052344,
     "end_time": "2021-05-24T12:24:06.988667",
     "exception": false,
     "start_time": "2021-05-24T12:24:06.936323",
     "status": "completed"
    },
    "tags": []
   },
   "source": [
    "## Average accuracy score"
   ]
  },
  {
   "cell_type": "code",
   "execution_count": 18,
   "id": "still-password",
   "metadata": {
    "_cell_guid": "6882dc46-b943-4739-937a-ce4ba0fac8e0",
    "_uuid": "9a208d02-8b8c-421e-8867-c7ac817c9b19",
    "execution": {
     "iopub.execute_input": "2021-05-24T12:24:07.099917Z",
     "iopub.status.busy": "2021-05-24T12:24:07.099239Z",
     "iopub.status.idle": "2021-05-24T12:24:07.102798Z",
     "shell.execute_reply": "2021-05-24T12:24:07.102201Z"
    },
    "jupyter": {
     "outputs_hidden": false
    },
    "papermill": {
     "duration": 0.061581,
     "end_time": "2021-05-24T12:24:07.102950",
     "exception": false,
     "start_time": "2021-05-24T12:24:07.041369",
     "status": "completed"
    },
    "tags": []
   },
   "outputs": [
    {
     "data": {
      "text/plain": [
       "0.7595018079550021"
      ]
     },
     "execution_count": 18,
     "metadata": {},
     "output_type": "execute_result"
    }
   ],
   "source": [
    "rfc_acc/kf.get_n_splits()"
   ]
  },
  {
   "cell_type": "markdown",
   "id": "laden-brother",
   "metadata": {
    "_cell_guid": "ec1afd9e-00c7-4ee3-8527-9b176fcd9101",
    "_uuid": "fdac21f2-40de-4f1c-a592-b45a4593a91e",
    "papermill": {
     "duration": 0.053384,
     "end_time": "2021-05-24T12:24:07.209322",
     "exception": false,
     "start_time": "2021-05-24T12:24:07.155938",
     "status": "completed"
    },
    "tags": []
   },
   "source": [
    "## Combine confusion matrix"
   ]
  },
  {
   "cell_type": "code",
   "execution_count": 19,
   "id": "parallel-junction",
   "metadata": {
    "_cell_guid": "6b91bfe8-74f3-4c30-8a74-494d708fa66b",
    "_uuid": "cf18b865-22b3-48c9-9dae-6699d7bc7331",
    "execution": {
     "iopub.execute_input": "2021-05-24T12:24:07.343477Z",
     "iopub.status.busy": "2021-05-24T12:24:07.337739Z",
     "iopub.status.idle": "2021-05-24T12:24:07.479640Z",
     "shell.execute_reply": "2021-05-24T12:24:07.479043Z"
    },
    "jupyter": {
     "outputs_hidden": false
    },
    "papermill": {
     "duration": 0.217429,
     "end_time": "2021-05-24T12:24:07.479761",
     "exception": false,
     "start_time": "2021-05-24T12:24:07.262332",
     "status": "completed"
    },
    "scrolled": true,
    "tags": []
   },
   "outputs": [
    {
     "data": {
      "image/png": "[encoded data removed]",
      "text/plain": [
       "<Figure size 432x288 with 2 Axes>"
      ]
     },
     "metadata": {
      "needs_background": "light"
     },
     "output_type": "display_data"
    }
   ],
   "source": [
    "ConfusionMatrixDisplay(rfc_cfm).plot()\n",
    "plt.show()"
   ]
  },
  {
   "cell_type": "markdown",
   "id": "9be39db7",
   "metadata": {},
   "source": [
    "# Splitting the data into train and test set"
   ]
  },
  {
   "cell_type": "markdown",
   "id": "497f84fc",
   "metadata": {},
   "source": [
    "# Best Hyperparameter With max_depth=2, random_state=0"
   ]
  },
  {
   "cell_type": "code",
   "execution_count": 46,
   "id": "ba2cda62",
   "metadata": {},
   "outputs": [
    {
     "data": {
      "text/plain": [
       "GridSearchCV(cv=10,\n",
       "             estimator=RandomForestClassifier(max_depth=2, random_state=0),\n",
       "             param_grid=[{'max_depth': [10, 11, 12, 13, 14],\n",
       "                          'max_features': [0, 1, 2, 3, 4, 5, 6, 7, 8, 9, 10, 11,\n",
       "                                           12, 13]}],\n",
       "             scoring='accuracy')"
      ]
     },
     "execution_count": 46,
     "metadata": {},
     "output_type": "execute_result"
    }
   ],
   "source": [
    "from sklearn.model_selection import train_test_split\n",
    "from sklearn.model_selection import cross_val_score\n",
    "from sklearn.model_selection import GridSearchCV\n",
    "X_train, X_test, y_train, y_test = train_test_split(x, y, test_size = 0.3, random_state = 42)\n",
    "rfc = RandomForestClassifier(max_depth=2, random_state=0)\n",
    "forest_params = [{'max_depth': list(range(10, 15)), 'max_features': list(range(0,14))}]\n",
    "clf = GridSearchCV(rfc, forest_params, cv = 10, scoring='accuracy')\n",
    "clf.fit(X_train, y_train)"
   ]
  },
  {
   "cell_type": "markdown",
   "id": "16300492",
   "metadata": {},
   "source": [
    "# Best parameter for Random Forest"
   ]
  },
  {
   "cell_type": "code",
   "execution_count": 47,
   "id": "faa0d1ea",
   "metadata": {},
   "outputs": [
    {
     "name": "stdout",
     "output_type": "stream",
     "text": [
      "{'max_depth': 14, 'max_features': 9}\n"
     ]
    }
   ],
   "source": [
    "print(clf.best_params_)"
   ]
  },
  {
   "cell_type": "markdown",
   "id": "ccd29a19",
   "metadata": {},
   "source": [
    "# Accuracy and Mean score for Random Forest"
   ]
  },
  {
   "cell_type": "code",
   "execution_count": 23,
   "id": "007d57ab",
   "metadata": {},
   "outputs": [
    {
     "name": "stdout",
     "output_type": "stream",
     "text": [
      "Average Cross Validation score :0.5812772633944137\n",
      "standard deviation of results :0.009696025690697021\n"
     ]
    }
   ],
   "source": [
    "score=cross_val_score(rfc,x,y,cv=10)\n",
    "print(\"Average Cross Validation score :{}\".format(score.mean()))\n",
    "print(\"standard deviation of results :{}\".format(score.std()))"
   ]
  },
  {
   "cell_type": "markdown",
   "id": "5f33abb4",
   "metadata": {},
   "source": [
    "# Confusion Matrix For Random Forest"
   ]
  },
  {
   "cell_type": "code",
   "execution_count": 71,
   "id": "f0dcf447",
   "metadata": {},
   "outputs": [
    {
     "name": "stdout",
     "output_type": "stream",
     "text": [
      "TRAIN: [    0     3     4 ... 12441 12442 12444] TEST: [    1     2     8 ... 12435 12438 12443]\n",
      "TRAIN: [    0     1     2 ... 12441 12442 12443] TEST: [    9    13    15 ... 12436 12440 12444]\n",
      "TRAIN: [    0     1     2 ... 12442 12443 12444] TEST: [    4    27    34 ... 12394 12418 12425]\n",
      "TRAIN: [    0     1     2 ... 12442 12443 12444] TEST: [   24    46    47 ... 12419 12431 12437]\n",
      "TRAIN: [    0     1     2 ... 12442 12443 12444] TEST: [    6    12    45 ... 12416 12417 12423]\n",
      "TRAIN: [    0     1     2 ... 12442 12443 12444] TEST: [   14    19    20 ... 12402 12415 12439]\n",
      "TRAIN: [    0     1     2 ... 12442 12443 12444] TEST: [   11    25    40 ... 12421 12430 12441]\n",
      "TRAIN: [    1     2     3 ... 12442 12443 12444] TEST: [    0     5    21 ... 12424 12433 12434]\n",
      "TRAIN: [    0     1     2 ... 12442 12443 12444] TEST: [    3    10    16 ... 12405 12427 12432]\n",
      "TRAIN: [    0     1     2 ... 12441 12443 12444] TEST: [    7    36    42 ... 12422 12428 12442]\n",
      "Classification Report: \n",
      "               precision    recall  f1-score   support\n",
      "\n",
      "           0       0.73      0.10      0.17       540\n",
      "           1       0.58      0.97      0.73       704\n",
      "\n",
      "    accuracy                           0.59      1244\n",
      "   macro avg       0.66      0.53      0.45      1244\n",
      "weighted avg       0.65      0.59      0.49      1244\n",
      "\n"
     ]
    }
   ],
   "source": [
    "kf = StratifiedKFold(n_splits=10,shuffle=True,random_state=7)\n",
    "rfc = RandomForestClassifier(max_depth=2, random_state=0)\n",
    "for train_index, test_index in kf.split(x,y):\n",
    "    print(\"TRAIN:\", train_index, \"TEST:\", test_index)\n",
    "    x_train, x_test = x.iloc[train_index], x.iloc[test_index]\n",
    "    y_train, y_test = y.iloc[train_index], y.iloc[test_index]\n",
    "    rfc.fit(x_train, y_train)\n",
    "\n",
    "y_pred = rfc.predict(x_test)\n",
    "print(\"Classification Report: \\n\", classification_report(y_test, y_pred))"
   ]
  },
  {
   "cell_type": "markdown",
   "id": "dfc90241",
   "metadata": {},
   "source": [
    "# RandomForestClassifier(max_depth=5, random_state=1)"
   ]
  },
  {
   "cell_type": "code",
   "execution_count": 37,
   "id": "94a231f8",
   "metadata": {},
   "outputs": [
    {
     "data": {
      "text/plain": [
       "GridSearchCV(cv=10,\n",
       "             estimator=RandomForestClassifier(max_depth=5, random_state=1),\n",
       "             param_grid=[{'max_depth': [10, 11, 12, 13, 14],\n",
       "                          'max_features': [0, 1, 2, 3, 4, 5, 6, 7, 8, 9, 10, 11,\n",
       "                                           12, 13]}],\n",
       "             scoring='accuracy')"
      ]
     },
     "execution_count": 37,
     "metadata": {},
     "output_type": "execute_result"
    }
   ],
   "source": [
    "from sklearn.model_selection import train_test_split\n",
    "from sklearn.model_selection import cross_val_score\n",
    "from sklearn.model_selection import GridSearchCV\n",
    "X_train, X_test, y_train, y_test = train_test_split(x, y, test_size = 0.3, random_state = 42)\n",
    "rfc = RandomForestClassifier(max_depth=5, random_state=1)\n",
    "forest_params = [{'max_depth': list(range(10, 15)), 'max_features': list(range(0,14))}]\n",
    "clf = GridSearchCV(rfc, forest_params, cv = 10, scoring='accuracy')\n",
    "clf.fit(X_train, y_train)"
   ]
  },
  {
   "cell_type": "markdown",
   "id": "d923f5c0",
   "metadata": {},
   "source": [
    "# Best parameter For Random Forest "
   ]
  },
  {
   "cell_type": "code",
   "execution_count": 38,
   "id": "00be88d7",
   "metadata": {},
   "outputs": [
    {
     "name": "stdout",
     "output_type": "stream",
     "text": [
      "{'max_depth': 14, 'max_features': 13}\n"
     ]
    }
   ],
   "source": [
    "print(clf.best_params_)"
   ]
  },
  {
   "cell_type": "markdown",
   "id": "d93cc16c",
   "metadata": {},
   "source": [
    "# Accuracy and Mean score for Random Forest"
   ]
  },
  {
   "cell_type": "code",
   "execution_count": 39,
   "id": "2b290dc5",
   "metadata": {},
   "outputs": [
    {
     "name": "stdout",
     "output_type": "stream",
     "text": [
      "Average Cross Validation score :0.6657302521985047\n",
      "standard deviation of results :0.012316138811289637\n"
     ]
    }
   ],
   "source": [
    "score=cross_val_score(rfc,x,y,cv=10)\n",
    "print(\"Average Cross Validation score :{}\".format(score.mean()))\n",
    "print(\"standard deviation of results :{}\".format(score.std()))"
   ]
  },
  {
   "cell_type": "markdown",
   "id": "60b13062",
   "metadata": {},
   "source": [
    "# Confusion Matrix For Random Forest "
   ]
  },
  {
   "cell_type": "code",
   "execution_count": 72,
   "id": "ee36d72b",
   "metadata": {},
   "outputs": [
    {
     "name": "stdout",
     "output_type": "stream",
     "text": [
      "TRAIN: [    0     3     4 ... 12441 12442 12444] TEST: [    1     2     8 ... 12435 12438 12443]\n",
      "TRAIN: [    0     1     2 ... 12441 12442 12443] TEST: [    9    13    15 ... 12436 12440 12444]\n",
      "TRAIN: [    0     1     2 ... 12442 12443 12444] TEST: [    4    27    34 ... 12394 12418 12425]\n",
      "TRAIN: [    0     1     2 ... 12442 12443 12444] TEST: [   24    46    47 ... 12419 12431 12437]\n",
      "TRAIN: [    0     1     2 ... 12442 12443 12444] TEST: [    6    12    45 ... 12416 12417 12423]\n",
      "TRAIN: [    0     1     2 ... 12442 12443 12444] TEST: [   14    19    20 ... 12402 12415 12439]\n",
      "TRAIN: [    0     1     2 ... 12442 12443 12444] TEST: [   11    25    40 ... 12421 12430 12441]\n",
      "TRAIN: [    1     2     3 ... 12442 12443 12444] TEST: [    0     5    21 ... 12424 12433 12434]\n",
      "TRAIN: [    0     1     2 ... 12442 12443 12444] TEST: [    3    10    16 ... 12405 12427 12432]\n",
      "TRAIN: [    0     1     2 ... 12441 12443 12444] TEST: [    7    36    42 ... 12422 12428 12442]\n",
      "Classification Report: \n",
      "               precision    recall  f1-score   support\n",
      "\n",
      "           0       0.72      0.40      0.51       540\n",
      "           1       0.66      0.88      0.75       704\n",
      "\n",
      "    accuracy                           0.67      1244\n",
      "   macro avg       0.69      0.64      0.63      1244\n",
      "weighted avg       0.68      0.67      0.65      1244\n",
      "\n"
     ]
    }
   ],
   "source": [
    "kf = StratifiedKFold(n_splits=10,shuffle=True,random_state=7)\n",
    "rfc = RandomForestClassifier(max_depth=5, random_state=1)\n",
    "for train_index, test_index in kf.split(x,y):\n",
    "    print(\"TRAIN:\", train_index, \"TEST:\", test_index)\n",
    "    x_train, x_test = x.iloc[train_index], x.iloc[test_index]\n",
    "    y_train, y_test = y.iloc[train_index], y.iloc[test_index]\n",
    "    rfc.fit(x_train, y_train)\n",
    "\n",
    "y_pred = rfc.predict(x_test)\n",
    "print(\"Classification Report: \\n\", classification_report(y_test, y_pred))"
   ]
  },
  {
   "cell_type": "markdown",
   "id": "233fa644",
   "metadata": {},
   "source": [
    "# Best Hyperparameter With max_depth=7, random_state=3"
   ]
  },
  {
   "cell_type": "code",
   "execution_count": 41,
   "id": "086d5f38",
   "metadata": {},
   "outputs": [
    {
     "data": {
      "text/plain": [
       "GridSearchCV(cv=10,\n",
       "             estimator=RandomForestClassifier(max_depth=7, random_state=3),\n",
       "             param_grid=[{'max_depth': [10, 11, 12, 13, 14],\n",
       "                          'max_features': [0, 1, 2, 3, 4, 5, 6, 7, 8, 9, 10, 11,\n",
       "                                           12, 13]}],\n",
       "             scoring='accuracy')"
      ]
     },
     "execution_count": 41,
     "metadata": {},
     "output_type": "execute_result"
    }
   ],
   "source": [
    "from sklearn.model_selection import train_test_split\n",
    "from sklearn.model_selection import cross_val_score\n",
    "from sklearn.model_selection import GridSearchCV\n",
    "X_train, X_test, y_train, y_test = train_test_split(x, y, test_size = 0.3, random_state = 42)\n",
    "rfc = RandomForestClassifier(max_depth=7, random_state=3)\n",
    "forest_params = [{'max_depth': list(range(10, 15)), 'max_features': list(range(0,14))}]\n",
    "clf = GridSearchCV(rfc, forest_params, cv = 10, scoring='accuracy')\n",
    "clf.fit(X_train, y_train)"
   ]
  },
  {
   "cell_type": "markdown",
   "id": "cc0efdfa",
   "metadata": {},
   "source": [
    "# Best parameter for Random Forest "
   ]
  },
  {
   "cell_type": "code",
   "execution_count": 42,
   "id": "add745ef",
   "metadata": {},
   "outputs": [
    {
     "name": "stdout",
     "output_type": "stream",
     "text": [
      "{'max_depth': 14, 'max_features': 11}\n"
     ]
    }
   ],
   "source": [
    "print(clf.best_params_)"
   ]
  },
  {
   "cell_type": "markdown",
   "id": "52ea48ba",
   "metadata": {},
   "source": [
    "# Accuracy and Mean Score For Random Forest "
   ]
  },
  {
   "cell_type": "code",
   "execution_count": 43,
   "id": "38acc6bd",
   "metadata": {},
   "outputs": [
    {
     "name": "stdout",
     "output_type": "stream",
     "text": [
      "Average Cross Validation score :0.6891121398778394\n",
      "standard deviation of results :0.014194218747547296\n"
     ]
    }
   ],
   "source": [
    "score=cross_val_score(rfc,x,y,cv=10)\n",
    "print(\"Average Cross Validation score :{}\".format(score.mean()))\n",
    "print(\"standard deviation of results :{}\".format(score.std()))"
   ]
  },
  {
   "cell_type": "markdown",
   "id": "dc324ee3",
   "metadata": {},
   "source": [
    "# Confusion Matrix For Random Forest"
   ]
  },
  {
   "cell_type": "code",
   "execution_count": 73,
   "id": "f46dee69",
   "metadata": {},
   "outputs": [
    {
     "name": "stdout",
     "output_type": "stream",
     "text": [
      "TRAIN: [    0     3     4 ... 12441 12442 12444] TEST: [    1     2     8 ... 12435 12438 12443]\n",
      "TRAIN: [    0     1     2 ... 12441 12442 12443] TEST: [    9    13    15 ... 12436 12440 12444]\n",
      "TRAIN: [    0     1     2 ... 12442 12443 12444] TEST: [    4    27    34 ... 12394 12418 12425]\n",
      "TRAIN: [    0     1     2 ... 12442 12443 12444] TEST: [   24    46    47 ... 12419 12431 12437]\n",
      "TRAIN: [    0     1     2 ... 12442 12443 12444] TEST: [    6    12    45 ... 12416 12417 12423]\n",
      "TRAIN: [    0     1     2 ... 12442 12443 12444] TEST: [   14    19    20 ... 12402 12415 12439]\n",
      "TRAIN: [    0     1     2 ... 12442 12443 12444] TEST: [   11    25    40 ... 12421 12430 12441]\n",
      "TRAIN: [    1     2     3 ... 12442 12443 12444] TEST: [    0     5    21 ... 12424 12433 12434]\n",
      "TRAIN: [    0     1     2 ... 12442 12443 12444] TEST: [    3    10    16 ... 12405 12427 12432]\n",
      "TRAIN: [    0     1     2 ... 12441 12443 12444] TEST: [    7    36    42 ... 12422 12428 12442]\n",
      "Classification Report: \n",
      "               precision    recall  f1-score   support\n",
      "\n",
      "           0       0.74      0.69      0.72       540\n",
      "           1       0.78      0.82      0.80       704\n",
      "\n",
      "    accuracy                           0.76      1244\n",
      "   macro avg       0.76      0.75      0.76      1244\n",
      "weighted avg       0.76      0.76      0.76      1244\n",
      "\n"
     ]
    }
   ],
   "source": [
    "kf = StratifiedKFold(n_splits=10,shuffle=True,random_state=7)\n",
    "rfc = RandomForestClassifier(max_depth=25, random_state=4)\n",
    "for train_index, test_index in kf.split(x,y):\n",
    "    print(\"TRAIN:\", train_index, \"TEST:\", test_index)\n",
    "    x_train, x_test = x.iloc[train_index], x.iloc[test_index]\n",
    "    y_train, y_test = y.iloc[train_index], y.iloc[test_index]\n",
    "    rfc.fit(x_train, y_train)\n",
    "\n",
    "y_pred = rfc.predict(x_test)\n",
    "print(\"Classification Report: \\n\", classification_report(y_test, y_pred))"
   ]
  },
  {
   "cell_type": "markdown",
   "id": "48dab61d",
   "metadata": {},
   "source": [
    "# Choose another 2 algorithms that are appropriate for the problem"
   ]
  },
  {
   "cell_type": "markdown",
   "id": "af169fb0",
   "metadata": {},
   "source": [
    "## KNN classifier\n"
   ]
  },
  {
   "cell_type": "code",
   "execution_count": 24,
   "id": "09728d53",
   "metadata": {},
   "outputs": [],
   "source": [
    "from sklearn.neighbors import KNeighborsClassifier\n",
    "from sklearn.model_selection import cross_val_score\n",
    "from sklearn.model_selection import train_test_split\n",
    "from sklearn.model_selection import GridSearchCV"
   ]
  },
  {
   "cell_type": "code",
   "execution_count": 25,
   "id": "4e328e39",
   "metadata": {},
   "outputs": [
    {
     "name": "stdout",
     "output_type": "stream",
     "text": [
      "Fitting 10 folds for each of 30 candidates, totalling 300 fits\n"
     ]
    }
   ],
   "source": [
    "knn = KNeighborsClassifier()\n",
    "from sklearn.model_selection import GridSearchCV\n",
    "X_train, X_test, y_train, y_test = train_test_split(x, y, test_size = 0.3, random_state = 42)\n",
    "k_range = list(range(1, 31))\n",
    "param_grid = dict(n_neighbors=k_range)\n",
    "  \n",
    "# defining parameter range\n",
    "grid = GridSearchCV(knn, param_grid, cv=10, scoring='accuracy', return_train_score=False,verbose=1)\n",
    "  \n",
    "# fitting the model for grid search\n",
    "grid_search=grid.fit(X_train, y_train)\n"
   ]
  },
  {
   "cell_type": "markdown",
   "id": "82ec1425",
   "metadata": {},
   "source": [
    "# Best Parameter and Accuracy and Mean Score For KNN"
   ]
  },
  {
   "cell_type": "code",
   "execution_count": 26,
   "id": "36f4a038",
   "metadata": {},
   "outputs": [
    {
     "name": "stdout",
     "output_type": "stream",
     "text": [
      "Average Cross Validation score :0.5603084363176177\n",
      "standard deviation of results :0.06571660753407475\n",
      "{'n_neighbors': 26}\n"
     ]
    }
   ],
   "source": [
    "score=cross_val_score(knn,x,y,cv=10)\n",
    "print(\"Average Cross Validation score :{}\".format(score.mean()))\n",
    "print(\"standard deviation of results :{}\".format(score.std()))\n",
    "print(grid_search.best_params_)"
   ]
  },
  {
   "cell_type": "markdown",
   "id": "c8054a52",
   "metadata": {},
   "source": [
    "# Confusion Matrix for KNN"
   ]
  },
  {
   "cell_type": "code",
   "execution_count": 74,
   "id": "499c439b",
   "metadata": {},
   "outputs": [
    {
     "name": "stdout",
     "output_type": "stream",
     "text": [
      "TRAIN: [    0     3     4 ... 12441 12442 12444] TEST: [    1     2     8 ... 12435 12438 12443]\n",
      "TRAIN: [    0     1     2 ... 12441 12442 12443] TEST: [    9    13    15 ... 12436 12440 12444]\n",
      "TRAIN: [    0     1     2 ... 12442 12443 12444] TEST: [    4    27    34 ... 12394 12418 12425]\n",
      "TRAIN: [    0     1     2 ... 12442 12443 12444] TEST: [   24    46    47 ... 12419 12431 12437]\n",
      "TRAIN: [    0     1     2 ... 12442 12443 12444] TEST: [    6    12    45 ... 12416 12417 12423]\n",
      "TRAIN: [    0     1     2 ... 12442 12443 12444] TEST: [   14    19    20 ... 12402 12415 12439]\n",
      "TRAIN: [    0     1     2 ... 12442 12443 12444] TEST: [   11    25    40 ... 12421 12430 12441]\n",
      "TRAIN: [    1     2     3 ... 12442 12443 12444] TEST: [    0     5    21 ... 12424 12433 12434]\n",
      "TRAIN: [    0     1     2 ... 12442 12443 12444] TEST: [    3    10    16 ... 12405 12427 12432]\n",
      "TRAIN: [    0     1     2 ... 12441 12443 12444] TEST: [    7    36    42 ... 12422 12428 12442]\n",
      "Classification Report: \n",
      "               precision    recall  f1-score   support\n",
      "\n",
      "           0       0.63      0.59      0.61       540\n",
      "           1       0.70      0.74      0.72       704\n",
      "\n",
      "    accuracy                           0.67      1244\n",
      "   macro avg       0.67      0.66      0.67      1244\n",
      "weighted avg       0.67      0.67      0.67      1244\n",
      "\n"
     ]
    }
   ],
   "source": [
    "kf = StratifiedKFold(n_splits=10,shuffle=True,random_state=7)\n",
    "knn = KNeighborsClassifier()\n",
    "for train_index, test_index in kf.split(x,y):\n",
    "    print(\"TRAIN:\", train_index, \"TEST:\", test_index)\n",
    "    x_train, x_test = x.iloc[train_index], x.iloc[test_index]\n",
    "    y_train, y_test = y.iloc[train_index], y.iloc[test_index]\n",
    "    knn.fit(x_train, y_train)\n",
    "\n",
    "y_pred = knn.predict(x_test)\n",
    "print(\"Classification Report: \\n\", classification_report(y_test, y_pred))"
   ]
  },
  {
   "cell_type": "markdown",
   "id": "65a8f809",
   "metadata": {},
   "source": [
    "## SVM classifier With GridSeach"
   ]
  },
  {
   "cell_type": "code",
   "execution_count": 20,
   "id": "fb20d110",
   "metadata": {},
   "outputs": [
    {
     "name": "stdout",
     "output_type": "stream",
     "text": [
      "Fitting 5 folds for each of 25 candidates, totalling 125 fits\n",
      "[CV 1/5] END ........C=0.1, gamma=1, kernel=rbf;, score=0.566 total time=  11.9s\n",
      "[CV 2/5] END ........C=0.1, gamma=1, kernel=rbf;, score=0.566 total time=  11.4s\n",
      "[CV 3/5] END ........C=0.1, gamma=1, kernel=rbf;, score=0.566 total time=  11.3s\n",
      "[CV 4/5] END ........C=0.1, gamma=1, kernel=rbf;, score=0.566 total time=  11.8s\n",
      "[CV 5/5] END ........C=0.1, gamma=1, kernel=rbf;, score=0.565 total time=  11.9s\n",
      "[CV 1/5] END ......C=0.1, gamma=0.1, kernel=rbf;, score=0.674 total time=  10.8s\n",
      "[CV 2/5] END ......C=0.1, gamma=0.1, kernel=rbf;, score=0.679 total time=   9.8s\n",
      "[CV 3/5] END ......C=0.1, gamma=0.1, kernel=rbf;, score=0.671 total time=   9.8s\n",
      "[CV 4/5] END ......C=0.1, gamma=0.1, kernel=rbf;, score=0.680 total time=   9.9s\n",
      "[CV 5/5] END ......C=0.1, gamma=0.1, kernel=rbf;, score=0.678 total time=   9.3s\n",
      "[CV 1/5] END .....C=0.1, gamma=0.01, kernel=rbf;, score=0.651 total time=  10.1s\n",
      "[CV 2/5] END .....C=0.1, gamma=0.01, kernel=rbf;, score=0.673 total time=  10.4s\n",
      "[CV 3/5] END .....C=0.1, gamma=0.01, kernel=rbf;, score=0.646 total time=   9.9s\n",
      "[CV 4/5] END .....C=0.1, gamma=0.01, kernel=rbf;, score=0.659 total time=   9.9s\n",
      "[CV 5/5] END .....C=0.1, gamma=0.01, kernel=rbf;, score=0.661 total time=   9.7s\n",
      "[CV 1/5] END ....C=0.1, gamma=0.001, kernel=rbf;, score=0.566 total time=   9.9s\n",
      "[CV 2/5] END ....C=0.1, gamma=0.001, kernel=rbf;, score=0.566 total time=  10.0s\n",
      "[CV 3/5] END ....C=0.1, gamma=0.001, kernel=rbf;, score=0.566 total time=  11.0s\n",
      "[CV 4/5] END ....C=0.1, gamma=0.001, kernel=rbf;, score=0.566 total time=  10.5s\n",
      "[CV 5/5] END ....C=0.1, gamma=0.001, kernel=rbf;, score=0.565 total time=  10.7s\n",
      "[CV 1/5] END ...C=0.1, gamma=0.0001, kernel=rbf;, score=0.566 total time=  10.3s\n",
      "[CV 2/5] END ...C=0.1, gamma=0.0001, kernel=rbf;, score=0.566 total time=  10.2s\n",
      "[CV 3/5] END ...C=0.1, gamma=0.0001, kernel=rbf;, score=0.566 total time=  10.5s\n",
      "[CV 4/5] END ...C=0.1, gamma=0.0001, kernel=rbf;, score=0.566 total time=  10.0s\n",
      "[CV 5/5] END ...C=0.1, gamma=0.0001, kernel=rbf;, score=0.565 total time=  10.2s\n",
      "[CV 1/5] END ..........C=1, gamma=1, kernel=rbf;, score=0.568 total time=  11.4s\n",
      "[CV 2/5] END ..........C=1, gamma=1, kernel=rbf;, score=0.567 total time=  11.2s\n",
      "[CV 3/5] END ..........C=1, gamma=1, kernel=rbf;, score=0.568 total time=  11.2s\n",
      "[CV 4/5] END ..........C=1, gamma=1, kernel=rbf;, score=0.566 total time=  10.9s\n",
      "[CV 5/5] END ..........C=1, gamma=1, kernel=rbf;, score=0.566 total time=  11.0s\n",
      "[CV 1/5] END ........C=1, gamma=0.1, kernel=rbf;, score=0.755 total time=   9.1s\n",
      "[CV 2/5] END ........C=1, gamma=0.1, kernel=rbf;, score=0.744 total time=   9.0s\n",
      "[CV 3/5] END ........C=1, gamma=0.1, kernel=rbf;, score=0.771 total time=   8.8s\n",
      "[CV 4/5] END ........C=1, gamma=0.1, kernel=rbf;, score=0.756 total time=   8.4s\n",
      "[CV 5/5] END ........C=1, gamma=0.1, kernel=rbf;, score=0.744 total time=   8.5s\n",
      "[CV 1/5] END .......C=1, gamma=0.01, kernel=rbf;, score=0.713 total time=   8.3s\n",
      "[CV 2/5] END .......C=1, gamma=0.01, kernel=rbf;, score=0.702 total time=   8.2s\n",
      "[CV 3/5] END .......C=1, gamma=0.01, kernel=rbf;, score=0.699 total time=   8.2s\n",
      "[CV 4/5] END .......C=1, gamma=0.01, kernel=rbf;, score=0.687 total time=   8.2s\n",
      "[CV 5/5] END .......C=1, gamma=0.01, kernel=rbf;, score=0.698 total time=   8.2s\n",
      "[CV 1/5] END ......C=1, gamma=0.001, kernel=rbf;, score=0.662 total time=   9.2s\n",
      "[CV 2/5] END ......C=1, gamma=0.001, kernel=rbf;, score=0.679 total time=   9.3s\n",
      "[CV 3/5] END ......C=1, gamma=0.001, kernel=rbf;, score=0.656 total time=   9.3s\n",
      "[CV 4/5] END ......C=1, gamma=0.001, kernel=rbf;, score=0.668 total time=   9.4s\n",
      "[CV 5/5] END ......C=1, gamma=0.001, kernel=rbf;, score=0.664 total time=   9.4s\n",
      "[CV 1/5] END .....C=1, gamma=0.0001, kernel=rbf;, score=0.566 total time=   9.7s\n",
      "[CV 2/5] END .....C=1, gamma=0.0001, kernel=rbf;, score=0.566 total time=   9.8s\n",
      "[CV 3/5] END .....C=1, gamma=0.0001, kernel=rbf;, score=0.566 total time=   9.8s\n",
      "[CV 4/5] END .....C=1, gamma=0.0001, kernel=rbf;, score=0.566 total time=   9.7s\n",
      "[CV 5/5] END .....C=1, gamma=0.0001, kernel=rbf;, score=0.565 total time=   9.8s\n",
      "[CV 1/5] END .........C=10, gamma=1, kernel=rbf;, score=0.586 total time=  10.3s\n",
      "[CV 2/5] END .........C=10, gamma=1, kernel=rbf;, score=0.587 total time=  10.7s\n",
      "[CV 3/5] END .........C=10, gamma=1, kernel=rbf;, score=0.595 total time=  10.9s\n",
      "[CV 4/5] END .........C=10, gamma=1, kernel=rbf;, score=0.586 total time=  11.8s\n",
      "[CV 5/5] END .........C=10, gamma=1, kernel=rbf;, score=0.589 total time=  10.5s\n",
      "[CV 1/5] END .......C=10, gamma=0.1, kernel=rbf;, score=0.740 total time=  10.0s\n",
      "[CV 2/5] END .......C=10, gamma=0.1, kernel=rbf;, score=0.735 total time=  11.5s\n",
      "[CV 3/5] END .......C=10, gamma=0.1, kernel=rbf;, score=0.737 total time=  10.0s\n",
      "[CV 4/5] END .......C=10, gamma=0.1, kernel=rbf;, score=0.747 total time=  10.0s\n",
      "[CV 5/5] END .......C=10, gamma=0.1, kernel=rbf;, score=0.739 total time=   9.9s\n",
      "[CV 1/5] END ......C=10, gamma=0.01, kernel=rbf;, score=0.739 total time=   8.1s\n",
      "[CV 2/5] END ......C=10, gamma=0.01, kernel=rbf;, score=0.730 total time=   8.1s\n",
      "[CV 3/5] END ......C=10, gamma=0.01, kernel=rbf;, score=0.749 total time=   8.0s\n",
      "[CV 4/5] END ......C=10, gamma=0.01, kernel=rbf;, score=0.728 total time=   8.1s\n",
      "[CV 5/5] END ......C=10, gamma=0.01, kernel=rbf;, score=0.722 total time=   8.1s\n",
      "[CV 1/5] END .....C=10, gamma=0.001, kernel=rbf;, score=0.700 total time=   8.2s\n",
      "[CV 2/5] END .....C=10, gamma=0.001, kernel=rbf;, score=0.691 total time=   8.2s\n",
      "[CV 3/5] END .....C=10, gamma=0.001, kernel=rbf;, score=0.684 total time=   8.2s\n",
      "[CV 4/5] END .....C=10, gamma=0.001, kernel=rbf;, score=0.685 total time=   8.3s\n",
      "[CV 5/5] END .....C=10, gamma=0.001, kernel=rbf;, score=0.688 total time=   8.1s\n",
      "[CV 1/5] END ....C=10, gamma=0.0001, kernel=rbf;, score=0.662 total time=   9.4s\n",
      "[CV 2/5] END ....C=10, gamma=0.0001, kernel=rbf;, score=0.680 total time=   9.6s\n",
      "[CV 3/5] END ....C=10, gamma=0.0001, kernel=rbf;, score=0.656 total time=   9.5s\n",
      "[CV 4/5] END ....C=10, gamma=0.0001, kernel=rbf;, score=0.668 total time=   9.3s\n",
      "[CV 5/5] END ....C=10, gamma=0.0001, kernel=rbf;, score=0.665 total time=   9.3s\n",
      "[CV 1/5] END ........C=100, gamma=1, kernel=rbf;, score=0.586 total time=  10.3s\n",
      "[CV 2/5] END ........C=100, gamma=1, kernel=rbf;, score=0.587 total time=  10.4s\n",
      "[CV 3/5] END ........C=100, gamma=1, kernel=rbf;, score=0.595 total time=  10.3s\n",
      "[CV 4/5] END ........C=100, gamma=1, kernel=rbf;, score=0.586 total time=  10.4s\n",
      "[CV 5/5] END ........C=100, gamma=1, kernel=rbf;, score=0.589 total time=  10.3s\n",
      "[CV 1/5] END ......C=100, gamma=0.1, kernel=rbf;, score=0.739 total time=  11.1s\n",
      "[CV 2/5] END ......C=100, gamma=0.1, kernel=rbf;, score=0.733 total time=  10.9s\n",
      "[CV 3/5] END ......C=100, gamma=0.1, kernel=rbf;, score=0.741 total time=  12.0s\n",
      "[CV 4/5] END ......C=100, gamma=0.1, kernel=rbf;, score=0.747 total time=  10.4s\n",
      "[CV 5/5] END ......C=100, gamma=0.1, kernel=rbf;, score=0.737 total time=  10.5s\n",
      "[CV 1/5] END .....C=100, gamma=0.01, kernel=rbf;, score=0.752 total time=  11.0s\n",
      "[CV 2/5] END .....C=100, gamma=0.01, kernel=rbf;, score=0.733 total time=  11.5s\n",
      "[CV 3/5] END .....C=100, gamma=0.01, kernel=rbf;, score=0.749 total time=  11.5s\n",
      "[CV 4/5] END .....C=100, gamma=0.01, kernel=rbf;, score=0.753 total time=  11.1s\n",
      "[CV 5/5] END .....C=100, gamma=0.01, kernel=rbf;, score=0.732 total time=  10.5s\n",
      "[CV 1/5] END ....C=100, gamma=0.001, kernel=rbf;, score=0.719 total time=   8.6s\n",
      "[CV 2/5] END ....C=100, gamma=0.001, kernel=rbf;, score=0.706 total time=   8.4s\n",
      "[CV 3/5] END ....C=100, gamma=0.001, kernel=rbf;, score=0.702 total time=   8.4s\n",
      "[CV 4/5] END ....C=100, gamma=0.001, kernel=rbf;, score=0.691 total time=   8.4s\n",
      "[CV 5/5] END ....C=100, gamma=0.001, kernel=rbf;, score=0.700 total time=   9.7s\n",
      "[CV 1/5] END ...C=100, gamma=0.0001, kernel=rbf;, score=0.694 total time=   9.0s\n",
      "[CV 2/5] END ...C=100, gamma=0.0001, kernel=rbf;, score=0.689 total time=   9.5s\n",
      "[CV 3/5] END ...C=100, gamma=0.0001, kernel=rbf;, score=0.680 total time=   9.5s\n",
      "[CV 4/5] END ...C=100, gamma=0.0001, kernel=rbf;, score=0.683 total time=   9.0s\n",
      "[CV 5/5] END ...C=100, gamma=0.0001, kernel=rbf;, score=0.686 total time=   8.9s\n",
      "[CV 1/5] END .......C=1000, gamma=1, kernel=rbf;, score=0.586 total time=  11.8s\n"
     ]
    },
    {
     "name": "stdout",
     "output_type": "stream",
     "text": [
      "[CV 2/5] END .......C=1000, gamma=1, kernel=rbf;, score=0.587 total time=  11.5s\n",
      "[CV 3/5] END .......C=1000, gamma=1, kernel=rbf;, score=0.595 total time=  11.9s\n",
      "[CV 4/5] END .......C=1000, gamma=1, kernel=rbf;, score=0.586 total time=  12.0s\n",
      "[CV 5/5] END .......C=1000, gamma=1, kernel=rbf;, score=0.589 total time=  12.0s\n",
      "[CV 1/5] END .....C=1000, gamma=0.1, kernel=rbf;, score=0.739 total time=  12.4s\n",
      "[CV 2/5] END .....C=1000, gamma=0.1, kernel=rbf;, score=0.733 total time=  11.4s\n",
      "[CV 3/5] END .....C=1000, gamma=0.1, kernel=rbf;, score=0.741 total time=  13.1s\n",
      "[CV 4/5] END .....C=1000, gamma=0.1, kernel=rbf;, score=0.747 total time=  11.6s\n",
      "[CV 5/5] END .....C=1000, gamma=0.1, kernel=rbf;, score=0.737 total time=  11.7s\n",
      "[CV 1/5] END ....C=1000, gamma=0.01, kernel=rbf;, score=0.722 total time=  39.1s\n",
      "[CV 2/5] END ....C=1000, gamma=0.01, kernel=rbf;, score=0.720 total time=  34.1s\n",
      "[CV 3/5] END ....C=1000, gamma=0.01, kernel=rbf;, score=0.715 total time=  36.6s\n",
      "[CV 4/5] END ....C=1000, gamma=0.01, kernel=rbf;, score=0.724 total time=  35.6s\n",
      "[CV 5/5] END ....C=1000, gamma=0.01, kernel=rbf;, score=0.718 total time=  35.0s\n",
      "[CV 1/5] END ...C=1000, gamma=0.001, kernel=rbf;, score=0.741 total time=  11.4s\n",
      "[CV 2/5] END ...C=1000, gamma=0.001, kernel=rbf;, score=0.731 total time=  11.2s\n",
      "[CV 3/5] END ...C=1000, gamma=0.001, kernel=rbf;, score=0.750 total time=  11.5s\n",
      "[CV 4/5] END ...C=1000, gamma=0.001, kernel=rbf;, score=0.727 total time=  11.3s\n",
      "[CV 5/5] END ...C=1000, gamma=0.001, kernel=rbf;, score=0.725 total time=  11.3s\n",
      "[CV 1/5] END ..C=1000, gamma=0.0001, kernel=rbf;, score=0.703 total time=   8.7s\n",
      "[CV 2/5] END ..C=1000, gamma=0.0001, kernel=rbf;, score=0.694 total time=   9.1s\n",
      "[CV 3/5] END ..C=1000, gamma=0.0001, kernel=rbf;, score=0.685 total time=   8.8s\n",
      "[CV 4/5] END ..C=1000, gamma=0.0001, kernel=rbf;, score=0.683 total time=   8.8s\n",
      "[CV 5/5] END ..C=1000, gamma=0.0001, kernel=rbf;, score=0.693 total time=   8.8s\n",
      "Average Cross Validation score :0.6774596779400561\n",
      "standard deviation of results :0.023365317981018863\n"
     ]
    }
   ],
   "source": [
    "from sklearn.model_selection import cross_val_score\n",
    "from sklearn.model_selection import train_test_split\n",
    "from sklearn.model_selection import GridSearchCV\n",
    "from sklearn.svm import SVC\n",
    "X_train, X_test, y_train, y_test = train_test_split(x, y, test_size = 0.3, random_state = 42)\n",
    "# defining parameter range\n",
    "param_grid = {'C': [0.1, 1, 10, 100, 1000],\n",
    "              'gamma': [1, 0.1, 0.01, 0.001, 0.0001],\n",
    "              'kernel': ['rbf']}\n",
    "grid = GridSearchCV(SVC(), param_grid, refit = True, verbose = 3)\n",
    " \n",
    "# fitting the model for grid search\n",
    "grid.fit(X_train, y_train)\n",
    "score=cross_val_score(SVC(),x,y,cv=10)\n",
    "print(\"Average Cross Validation score :{}\".format(score.mean()))\n",
    "print(\"standard deviation of results :{}\".format(score.std()))"
   ]
  },
  {
   "cell_type": "markdown",
   "id": "da86de9f",
   "metadata": {},
   "source": [
    "# Best Parameter for SVM"
   ]
  },
  {
   "cell_type": "code",
   "execution_count": 23,
   "id": "54b98060",
   "metadata": {},
   "outputs": [
    {
     "name": "stdout",
     "output_type": "stream",
     "text": [
      "{'C': 1, 'gamma': 0.1, 'kernel': 'rbf'}\n",
      "SVC(C=1, gamma=0.1)\n"
     ]
    }
   ],
   "source": [
    "# print best parameter after tuning\n",
    "\n",
    "print(grid.best_params_)\n",
    " \n",
    "# print how our model looks after hyper-parameter tuning\n",
    "print(grid.best_estimator_)"
   ]
  },
  {
   "cell_type": "markdown",
   "id": "3b806234",
   "metadata": {},
   "source": [
    "# Confusion Matrix SVM"
   ]
  },
  {
   "cell_type": "code",
   "execution_count": 76,
   "id": "77548abc",
   "metadata": {},
   "outputs": [
    {
     "name": "stdout",
     "output_type": "stream",
     "text": [
      "TRAIN: [    0     3     4 ... 12441 12442 12444] TEST: [    1     2     8 ... 12435 12438 12443]\n",
      "TRAIN: [    0     1     2 ... 12441 12442 12443] TEST: [    9    13    15 ... 12436 12440 12444]\n",
      "TRAIN: [    0     1     2 ... 12442 12443 12444] TEST: [    4    27    34 ... 12394 12418 12425]\n",
      "TRAIN: [    0     1     2 ... 12442 12443 12444] TEST: [   24    46    47 ... 12419 12431 12437]\n",
      "TRAIN: [    0     1     2 ... 12442 12443 12444] TEST: [    6    12    45 ... 12416 12417 12423]\n",
      "TRAIN: [    0     1     2 ... 12442 12443 12444] TEST: [   14    19    20 ... 12402 12415 12439]\n",
      "TRAIN: [    0     1     2 ... 12442 12443 12444] TEST: [   11    25    40 ... 12421 12430 12441]\n",
      "TRAIN: [    1     2     3 ... 12442 12443 12444] TEST: [    0     5    21 ... 12424 12433 12434]\n",
      "TRAIN: [    0     1     2 ... 12442 12443 12444] TEST: [    3    10    16 ... 12405 12427 12432]\n",
      "TRAIN: [    0     1     2 ... 12441 12443 12444] TEST: [    7    36    42 ... 12422 12428 12442]\n",
      "Classification Report: \n",
      "               precision    recall  f1-score   support\n",
      "\n",
      "           0       0.74      0.65      0.69       540\n",
      "           1       0.75      0.82      0.79       704\n",
      "\n",
      "    accuracy                           0.75      1244\n",
      "   macro avg       0.74      0.74      0.74      1244\n",
      "weighted avg       0.75      0.75      0.74      1244\n",
      "\n"
     ]
    }
   ],
   "source": [
    "svm = SVC()\n",
    "kf = StratifiedKFold(n_splits=10,shuffle=True,random_state=7)\n",
    "for train_index, test_index in kf.split(x,y):\n",
    "    print(\"TRAIN:\", train_index, \"TEST:\", test_index)\n",
    "    x_train, x_test = x.iloc[train_index], x.iloc[test_index]\n",
    "    y_train, y_test = y.iloc[train_index], y.iloc[test_index]\n",
    "    svm.fit(x_train, y_train)\n",
    "\n",
    "y_pred = svm.predict(x_test)\n",
    "print(\"Classification Report: \\n\", classification_report(y_test, y_pred))"
   ]
  },
  {
   "cell_type": "code",
   "execution_count": 20,
   "id": "acknowledged-saudi",
   "metadata": {
    "_cell_guid": "10fbc2b0-2baf-4e72-9052-b366275c0852",
    "_uuid": "b4caedc7-9cf3-49cf-9beb-d0f3240dcafb",
    "execution": {
     "iopub.execute_input": "2021-05-24T12:25:07.311926Z",
     "iopub.status.busy": "2021-05-24T12:25:07.310970Z",
     "iopub.status.idle": "2021-05-24T12:25:07.314397Z",
     "shell.execute_reply": "2021-05-24T12:25:07.314779Z"
    },
    "jupyter": {
     "outputs_hidden": false
    },
    "papermill": {
     "duration": 0.063272,
     "end_time": "2021-05-24T12:25:07.314947",
     "exception": false,
     "start_time": "2021-05-24T12:25:07.251675",
     "status": "completed"
    },
    "tags": []
   },
   "outputs": [
    {
     "data": {
      "text/plain": [
       "0.7521092808356771"
      ]
     },
     "execution_count": 20,
     "metadata": {},
     "output_type": "execute_result"
    }
   ],
   "source": [
    "svm_acc/kf.get_n_splits()"
   ]
  },
  {
   "cell_type": "markdown",
   "id": "coastal-mexico",
   "metadata": {
    "_cell_guid": "669a7acd-8f1c-4544-aa4d-ee2be040bef2",
    "_uuid": "815e2ee5-cb82-4bc0-96b7-e5a066dc458d",
    "papermill": {
     "duration": 0.054897,
     "end_time": "2021-05-24T12:25:07.423587",
     "exception": false,
     "start_time": "2021-05-24T12:25:07.368690",
     "status": "completed"
    },
    "tags": []
   },
   "source": []
  },
  {
   "cell_type": "markdown",
   "id": "satellite-following",
   "metadata": {
    "_cell_guid": "39c98e19-240f-4e0e-af06-93f09464bbf3",
    "_uuid": "03a7be79-d922-4e7f-8a5f-07dd403d5f99",
    "papermill": {
     "duration": 0.056212,
     "end_time": "2021-05-24T12:25:07.801586",
     "exception": false,
     "start_time": "2021-05-24T12:25:07.745374",
     "status": "completed"
    },
    "tags": []
   },
   "source": [
    "# Conclusion\n",
    "According to the accuracy and confusion matrix of 3 models, Random Forest perform better than SVM and KNN."
   ]
  }
 ],
 "metadata": {
  "kernelspec": {
   "display_name": "Python 3 (ipykernel)",
   "language": "python",
   "name": "python3"
  },
  "language_info": {
   "codemirror_mode": {
    "name": "ipython",
    "version": 3
   },
   "file_extension": ".py",
   "mimetype": "text/x-python",
   "name": "python",
   "nbconvert_exporter": "python",
   "pygments_lexer": "ipython3",
   "version": "3.9.7"
  },
  "papermill": {
   "default_parameters": {},
   "duration": 107.417096,
   "end_time": "2021-05-24T12:25:08.467593",
   "environment_variables": {},
   "exception": null,
   "input_path": "__notebook__.ipynb",
   "output_path": "__notebook__.ipynb",
   "parameters": {},
   "start_time": "2021-05-24T12:23:21.050497",
   "version": "2.3.2"
  }
 },
 "nbformat": 4,
 "nbformat_minor": 5
}
